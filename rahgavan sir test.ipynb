{
 "cells": [
  {
   "cell_type": "code",
   "execution_count": 11,
   "metadata": {},
   "outputs": [
    {
     "name": "stdout",
     "output_type": "stream",
     "text": [
      "w67\n",
      "w23\n",
      "w45\n",
      "w98\n",
      "w456\n",
      "w789\n",
      "w123\n",
      "w345\n",
      "w567\n",
      "w4567345\n",
      "maximum 23\n",
      "minimum 4567345\n"
     ]
    }
   ],
   "source": [
    "'''1.write a programt o input 10 num.find max mini without using list tuple set'''\n",
    "\n",
    "\n",
    "mini=0\n",
    "maxi=0\n",
    "count=0\n",
    "while True:\n",
    "    num=int(input('w'))\n",
    "    if num>maxi:\n",
    "        maxi=num\n",
    "    if count==0:\n",
    "        mini=num\n",
    "    count+=1\n",
    "    if count>=1:\n",
    "        if num<mini:\n",
    "            mini=num\n",
    "    if count==10:\n",
    "        break\n",
    "print(\"maximum\",mini)\n",
    "print(\"minimum\",maxi)"
   ]
  },
  {
   "cell_type": "code",
   "execution_count": 16,
   "metadata": {},
   "outputs": [
    {
     "name": "stdout",
     "output_type": "stream",
     "text": [
      "2 1 3\n"
     ]
    }
   ],
   "source": [
    "'''2 names=['sushil','hari','kiran kumar']  display\n",
    "all the names find how may are starts with p or s'''\n",
    "\n",
    "count1=0\n",
    "count2=0\n",
    "names=['sushil','hari','kiran kumar','prakash','shreya']\n",
    "for i in names:\n",
    "    if i.startswith('s'):\n",
    "        count1+=1\n",
    "    if i.startswith('p'):\n",
    "        count2+=1\n",
    "print(count1,count2,count1+count2)\n"
   ]
  },
  {
   "cell_type": "code",
   "execution_count": null,
   "metadata": {},
   "outputs": [],
   "source": [
    "'''3.process data1 find how many three digits prime numbers are there'''\n",
    "data={123,101,133,77,49.149,129,31,999,971,932,931}\n",
    "count=0\n",
    "emp={}\n",
    "for i in data:\n",
    "    if i>99 and i<1000:\n",
    "        for j in range(2,i):\n",
    "            if (i%j)==0:\n",
    "                count+=1\n",
    "            datas={i:count}\n",
    "            emp.update(datas)\n",
    "        count=0\n",
    "count1=0\n",
    "for u,v in emp.items():\n",
    "    if v==0:\n",
    "        count1+=1\n",
    "print(emp)\n",
    "print(count1)\n",
    "        "
   ]
  },
  {
   "cell_type": "code",
   "execution_count": 21,
   "metadata": {},
   "outputs": [
    {
     "name": "stdout",
     "output_type": "stream",
     "text": [
      "[56, 78, 12, 190, 100, 440, 22, 55, 66, 19]\n",
      "[19, 66, 55, 22, 440, 100, 190, 12, 78, 56]\n"
     ]
    }
   ],
   "source": [
    "'''4.add data1 and data2 into result only unique'''\n",
    "\n",
    "d1=[56,78,12,190,100]\n",
    "d2=[440,22,55,66,19,78]\n",
    "res=[]\n",
    "for i in d1:\n",
    "    if i not in res:\n",
    "        res.append(i)\n",
    "for j in d2:\n",
    "    if j not in res:\n",
    "        res.append(j)\n",
    "print(res)\n",
    "print(res[::-1])"
   ]
  },
  {
   "cell_type": "code",
   "execution_count": 24,
   "metadata": {},
   "outputs": [
    {
     "name": "stdout",
     "output_type": "stream",
     "text": [
      "yes\n",
      "2000 lohit\n",
      "5000 kalai\n"
     ]
    }
   ],
   "source": [
    "'''5.emp={1000:'uday',2000:'lohit',3000:'batma'} how maby emp are there \n",
    "is there any emp calles sushil kumar given a= (2000,5000,1200,1900)\n",
    "find the name of the id in a'''\n",
    "emp={1000:'uday',2000:'lohit',3000:'batma',5000:'kalai'}\n",
    "ids=emp.keys()\n",
    "names=emp.values()\n",
    "length=len(ids)\n",
    "for i in names:\n",
    "    if i=='lohit':\n",
    "        print('yes')\n",
    "a= (2000,5000,1200,1900)\n",
    "for j in a:\n",
    "    for u,v in emp.items():\n",
    "        if u==j:\n",
    "            print(u,v)\n",
    "\n"
   ]
  },
  {
   "cell_type": "code",
   "execution_count": 25,
   "metadata": {},
   "outputs": [
    {
     "name": "stdout",
     "output_type": "stream",
     "text": [
      "enter id1200\n",
      "nameakash\n",
      "enter id2300\n",
      "nameceema\n",
      "enter id3000\n",
      "nameuma\n",
      "enter id-1\n",
      "{1000: 'uday', 2000: 'lohit', 3000: 'uma', 5000: 'kalai', 1200: 'akash', 2300: 'ceema'}\n"
     ]
    }
   ],
   "source": [
    "'''6.to question 5 write a program to input the emply code and name till the use wishes\n",
    "add them to the employee and finally display all the contents of the employee'''\n",
    "\n",
    "while True:\n",
    "    ids=int(input(\"enter id\"))\n",
    "    if ids==-1:\n",
    "        break\n",
    "    name=str(input('name'))\n",
    "    emps={ids:name}\n",
    "    emp.update(emps)\n",
    "print(emp)"
   ]
  },
  {
   "cell_type": "code",
   "execution_count": 28,
   "metadata": {},
   "outputs": [
    {
     "name": "stdout",
     "output_type": "stream",
     "text": [
      "[77, 777] 2\n"
     ]
    }
   ],
   "source": [
    "'''7.filter out the numbers divisible by 7 from data1=[10,189,90,88,1,45] \n",
    "only last 10 elements needs to be processed'''\n",
    "\n",
    "data1=[10,189,90,88,1,45,77,34,54,66,121,99,78,777] \n",
    "list1=data1[-10:]\n",
    "list2=[]\n",
    "for i in list1:\n",
    "    if (i%7)==0:\n",
    "        list2.append(i)\n",
    "print(list2,len(list2))\n",
    "\n"
   ]
  },
  {
   "cell_type": "code",
   "execution_count": 31,
   "metadata": {},
   "outputs": [
    {
     "name": "stdout",
     "output_type": "stream",
     "text": [
      "[40, 756, 360, 352, 4, 180]\n",
      "[80, 40, 60, 1512, 756, 1134, 720, 360, 540, 704, 352, 528, 8, 4, 6, 360, 180, 270]\n"
     ]
    }
   ],
   "source": [
    "'''8.data1=[10,189,90,88,1,45] numb={4}\n",
    "multiply by all the elements of data1 with the contents of numb\n",
    "givenand store the result in data2 display the same'''\n",
    "\n",
    "\n",
    "data1=[10,189,90,88,1,45]\n",
    "numb={4}\n",
    "data2=[]\n",
    "for i in data1:\n",
    "    for j in numb:\n",
    "        a=i*j\n",
    "        data2.append(a)\n",
    "print(data2)\n",
    "\n",
    "numb={4,6,8}\n",
    "data2=[]\n",
    "for i in data1:\n",
    "    for j in numb:\n",
    "        a=i*j\n",
    "        data2.append(a)\n",
    "print(data2)"
   ]
  },
  {
   "cell_type": "code",
   "execution_count": null,
   "metadata": {},
   "outputs": [],
   "source": []
  }
 ],
 "metadata": {
  "kernelspec": {
   "display_name": "Python 3",
   "language": "python",
   "name": "python3"
  },
  "language_info": {
   "codemirror_mode": {
    "name": "ipython",
    "version": 3
   },
   "file_extension": ".py",
   "mimetype": "text/x-python",
   "name": "python",
   "nbconvert_exporter": "python",
   "pygments_lexer": "ipython3",
   "version": "3.8.5"
  }
 },
 "nbformat": 4,
 "nbformat_minor": 4
}
