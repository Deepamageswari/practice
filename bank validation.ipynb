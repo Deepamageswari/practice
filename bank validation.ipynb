{
 "cells": [
  {
   "cell_type": "code",
   "execution_count": 2,
   "metadata": {},
   "outputs": [],
   "source": [
    "import pymysql\n",
    "import pandas as pd"
   ]
  },
  {
   "cell_type": "code",
   "execution_count": 2,
   "metadata": {},
   "outputs": [],
   "source": [
    "conn=pymysql.connect(host='localhost',port=3306,user='root',password='deeraj',db='dimention')"
   ]
  },
  {
   "cell_type": "code",
   "execution_count": 3,
   "metadata": {},
   "outputs": [
    {
     "data": {
      "text/html": [
       "<div>\n",
       "<style scoped>\n",
       "    .dataframe tbody tr th:only-of-type {\n",
       "        vertical-align: middle;\n",
       "    }\n",
       "\n",
       "    .dataframe tbody tr th {\n",
       "        vertical-align: top;\n",
       "    }\n",
       "\n",
       "    .dataframe thead th {\n",
       "        text-align: right;\n",
       "    }\n",
       "</style>\n",
       "<table border=\"1\" class=\"dataframe\">\n",
       "  <thead>\n",
       "    <tr style=\"text-align: right;\">\n",
       "      <th></th>\n",
       "      <th>FIRST_NAME</th>\n",
       "      <th>LAST_NAME</th>\n",
       "      <th>AGE</th>\n",
       "      <th>SEX</th>\n",
       "      <th>INCOME</th>\n",
       "    </tr>\n",
       "  </thead>\n",
       "  <tbody>\n",
       "    <tr>\n",
       "      <th>0</th>\n",
       "      <td>Mac</td>\n",
       "      <td>Mohan</td>\n",
       "      <td>20</td>\n",
       "      <td>M</td>\n",
       "      <td>2000.0</td>\n",
       "    </tr>\n",
       "    <tr>\n",
       "      <th>1</th>\n",
       "      <td>Mac</td>\n",
       "      <td>Mohan</td>\n",
       "      <td>20</td>\n",
       "      <td>M</td>\n",
       "      <td>2000.0</td>\n",
       "    </tr>\n",
       "    <tr>\n",
       "      <th>2</th>\n",
       "      <td>Mac</td>\n",
       "      <td>Mohan</td>\n",
       "      <td>20</td>\n",
       "      <td>M</td>\n",
       "      <td>2000.0</td>\n",
       "    </tr>\n",
       "    <tr>\n",
       "      <th>3</th>\n",
       "      <td>Mac</td>\n",
       "      <td>ganesh</td>\n",
       "      <td>21</td>\n",
       "      <td>M</td>\n",
       "      <td>1999.0</td>\n",
       "    </tr>\n",
       "    <tr>\n",
       "      <th>4</th>\n",
       "      <td>Mac</td>\n",
       "      <td>Mohan</td>\n",
       "      <td>20</td>\n",
       "      <td>M</td>\n",
       "      <td>2000.0</td>\n",
       "    </tr>\n",
       "  </tbody>\n",
       "</table>\n",
       "</div>"
      ],
      "text/plain": [
       "  FIRST_NAME LAST_NAME  AGE SEX  INCOME\n",
       "0        Mac     Mohan   20   M  2000.0\n",
       "1        Mac     Mohan   20   M  2000.0\n",
       "2        Mac     Mohan   20   M  2000.0\n",
       "3        Mac    ganesh   21   M  1999.0\n",
       "4        Mac     Mohan   20   M  2000.0"
      ]
     },
     "execution_count": 3,
     "metadata": {},
     "output_type": "execute_result"
    }
   ],
   "source": [
    "s=pd.read_sql_query('select * from employees',conn)\n",
    "s"
   ]
  },
  {
   "cell_type": "code",
   "execution_count": 43,
   "metadata": {},
   "outputs": [],
   "source": [
    "cursor=conn.cursor()\n"
   ]
  },
  {
   "cell_type": "code",
   "execution_count": 27,
   "metadata": {},
   "outputs": [
    {
     "data": {
      "text/plain": [
       "0"
      ]
     },
     "execution_count": 27,
     "metadata": {},
     "output_type": "execute_result"
    }
   ],
   "source": [
    "cursor.execute('create table hi(name varchar(10))')"
   ]
  },
  {
   "cell_type": "code",
   "execution_count": 49,
   "metadata": {},
   "outputs": [
    {
     "data": {
      "text/plain": [
       "1"
      ]
     },
     "execution_count": 49,
     "metadata": {},
     "output_type": "execute_result"
    }
   ],
   "source": [
    "cursor.execute(\"insert into hi values('taru')\")"
   ]
  },
  {
   "cell_type": "code",
   "execution_count": 52,
   "metadata": {},
   "outputs": [],
   "source": [
    "cursor.execute('select * from hi')\n",
    "for i in cursor:\n",
    "    print(i)"
   ]
  },
  {
   "cell_type": "code",
   "execution_count": 36,
   "metadata": {},
   "outputs": [],
   "source": [
    "cursor.close()\n",
    "conn.close()"
   ]
  },
  {
   "cell_type": "code",
   "execution_count": 51,
   "metadata": {},
   "outputs": [],
   "source": [
    "conn.rollback()"
   ]
  },
  {
   "cell_type": "code",
   "execution_count": 37,
   "metadata": {},
   "outputs": [
    {
     "name": "stdout",
     "output_type": "stream",
     "text": [
      "<pymysql.cursors.Cursor object at 0x000002702655EE80>\n"
     ]
    }
   ],
   "source": [
    "print(cursor)"
   ]
  },
  {
   "cell_type": "code",
   "execution_count": 4,
   "metadata": {},
   "outputs": [],
   "source": [
    "bank_data=pd.read_sql_query('select * from bank_validation',conn)"
   ]
  },
  {
   "cell_type": "code",
   "execution_count": 6,
   "metadata": {
    "collapsed": true
   },
   "outputs": [
    {
     "name": "stdout",
     "output_type": "stream",
     "text": [
      "   BankID    AccountID\n",
      "0   A1020    S39403030\n",
      "1   A1020    S30495345\n",
      "2   A1020   S234234432\n",
      "3   A1020    C34534543\n",
      "4   A1020    C34595044\n",
      "5   A1020  C2304985345\n",
      "6   A1020   D934530945\n",
      "7   A1020   D940404984\n",
      "8   A1020   D02340494r\n",
      "9   A1021  S3405935845\n",
      "10  A1021   S950504840\n",
      "11  A1021    S94040958\n",
      "12  A1021    C34095345\n",
      "13  A1021    C08548494\n",
      "14  A1021    C88594048\n",
      "15  A1021     D9440021\n",
      "16  A1021     D4954896\n"
     ]
    }
   ],
   "source": [
    "print(bank_data)"
   ]
  },
  {
   "cell_type": "code",
   "execution_count": 5,
   "metadata": {},
   "outputs": [
    {
     "name": "stdout",
     "output_type": "stream",
     "text": [
      "<class 'pandas.core.frame.DataFrame'>\n",
      "RangeIndex: 17 entries, 0 to 16\n",
      "Data columns (total 2 columns):\n",
      " #   Column     Non-Null Count  Dtype \n",
      "---  ------     --------------  ----- \n",
      " 0   BankID     17 non-null     object\n",
      " 1   AccountID  17 non-null     object\n",
      "dtypes: object(2)\n",
      "memory usage: 400.0+ bytes\n",
      "--------------------------------------------------\n",
      "(17, 2)\n",
      "--------------------------------------------------\n",
      "34\n"
     ]
    }
   ],
   "source": [
    "bank_data.info()\n",
    "print(\"-----\"*10)\n",
    "print(bank_data.shape)\n",
    "print(\"-----\"*10)\n",
    "print(bank_data.size)"
   ]
  },
  {
   "cell_type": "code",
   "execution_count": 24,
   "metadata": {},
   "outputs": [
    {
     "name": "stdout",
     "output_type": "stream",
     "text": [
      "   BankID    AccountID  len\n",
      "0   A1020    S39403030    9\n",
      "1   A1020    S30495345    9\n",
      "2   A1020   S234234432   10\n",
      "3   A1020    C34534543    9\n",
      "4   A1020    C34595044    9\n",
      "5   A1020  C2304985345   11\n",
      "6   A1020   D934530945   10\n",
      "7   A1020   D940404984   10\n",
      "8   A1020   D02340494r   10\n",
      "9   A1021  S3405935845   11\n",
      "10  A1021   S950504840   10\n",
      "11  A1021    S94040958    9\n",
      "12  A1021    C34095345    9\n",
      "13  A1021    C08548494    9\n",
      "14  A1021    C88594048    9\n",
      "15  A1021     D9440021    8\n",
      "16  A1021     D4954896    8\n"
     ]
    }
   ],
   "source": [
    "print(bank_data)"
   ]
  },
  {
   "cell_type": "code",
   "execution_count": 16,
   "metadata": {},
   "outputs": [],
   "source": [
    "bank_data['len']=bank_data['AccountID'].str.len()"
   ]
  },
  {
   "cell_type": "code",
   "execution_count": 20,
   "metadata": {},
   "outputs": [
    {
     "name": "stdout",
     "output_type": "stream",
     "text": [
      "A1021 D9440021 8\n",
      "A1021 D4954896 8\n"
     ]
    }
   ],
   "source": [
    "for i,j,k in zip(bank_data['BankID'],bank_data['AccountID'],bank_data['len']):\n",
    "    if k<9:\n",
    "        print(i,j,k)"
   ]
  },
  {
   "cell_type": "code",
   "execution_count": 25,
   "metadata": {
    "collapsed": true
   },
   "outputs": [
    {
     "data": {
      "text/html": [
       "<div>\n",
       "<style scoped>\n",
       "    .dataframe tbody tr th:only-of-type {\n",
       "        vertical-align: middle;\n",
       "    }\n",
       "\n",
       "    .dataframe tbody tr th {\n",
       "        vertical-align: top;\n",
       "    }\n",
       "\n",
       "    .dataframe thead th {\n",
       "        text-align: right;\n",
       "    }\n",
       "</style>\n",
       "<table border=\"1\" class=\"dataframe\">\n",
       "  <thead>\n",
       "    <tr style=\"text-align: right;\">\n",
       "      <th></th>\n",
       "      <th>BankID</th>\n",
       "      <th>AccountID</th>\n",
       "    </tr>\n",
       "  </thead>\n",
       "  <tbody>\n",
       "    <tr>\n",
       "      <th>0</th>\n",
       "      <td>A1020</td>\n",
       "      <td>S39403030</td>\n",
       "    </tr>\n",
       "    <tr>\n",
       "      <th>1</th>\n",
       "      <td>A1020</td>\n",
       "      <td>S30495345</td>\n",
       "    </tr>\n",
       "    <tr>\n",
       "      <th>2</th>\n",
       "      <td>A1020</td>\n",
       "      <td>S234234432</td>\n",
       "    </tr>\n",
       "    <tr>\n",
       "      <th>3</th>\n",
       "      <td>A1020</td>\n",
       "      <td>C34534543</td>\n",
       "    </tr>\n",
       "    <tr>\n",
       "      <th>4</th>\n",
       "      <td>A1020</td>\n",
       "      <td>C34595044</td>\n",
       "    </tr>\n",
       "    <tr>\n",
       "      <th>5</th>\n",
       "      <td>A1020</td>\n",
       "      <td>C2304985345</td>\n",
       "    </tr>\n",
       "    <tr>\n",
       "      <th>6</th>\n",
       "      <td>A1020</td>\n",
       "      <td>D934530945</td>\n",
       "    </tr>\n",
       "    <tr>\n",
       "      <th>7</th>\n",
       "      <td>A1020</td>\n",
       "      <td>D940404984</td>\n",
       "    </tr>\n",
       "    <tr>\n",
       "      <th>8</th>\n",
       "      <td>A1020</td>\n",
       "      <td>D02340494r</td>\n",
       "    </tr>\n",
       "    <tr>\n",
       "      <th>9</th>\n",
       "      <td>A1021</td>\n",
       "      <td>S3405935845</td>\n",
       "    </tr>\n",
       "    <tr>\n",
       "      <th>10</th>\n",
       "      <td>A1021</td>\n",
       "      <td>S950504840</td>\n",
       "    </tr>\n",
       "    <tr>\n",
       "      <th>11</th>\n",
       "      <td>A1021</td>\n",
       "      <td>S94040958</td>\n",
       "    </tr>\n",
       "    <tr>\n",
       "      <th>12</th>\n",
       "      <td>A1021</td>\n",
       "      <td>C34095345</td>\n",
       "    </tr>\n",
       "    <tr>\n",
       "      <th>13</th>\n",
       "      <td>A1021</td>\n",
       "      <td>C08548494</td>\n",
       "    </tr>\n",
       "    <tr>\n",
       "      <th>14</th>\n",
       "      <td>A1021</td>\n",
       "      <td>C88594048</td>\n",
       "    </tr>\n",
       "    <tr>\n",
       "      <th>15</th>\n",
       "      <td>A1021</td>\n",
       "      <td>D9440021</td>\n",
       "    </tr>\n",
       "    <tr>\n",
       "      <th>16</th>\n",
       "      <td>A1021</td>\n",
       "      <td>D4954896</td>\n",
       "    </tr>\n",
       "  </tbody>\n",
       "</table>\n",
       "</div>"
      ],
      "text/plain": [
       "   BankID    AccountID\n",
       "0   A1020    S39403030\n",
       "1   A1020    S30495345\n",
       "2   A1020   S234234432\n",
       "3   A1020    C34534543\n",
       "4   A1020    C34595044\n",
       "5   A1020  C2304985345\n",
       "6   A1020   D934530945\n",
       "7   A1020   D940404984\n",
       "8   A1020   D02340494r\n",
       "9   A1021  S3405935845\n",
       "10  A1021   S950504840\n",
       "11  A1021    S94040958\n",
       "12  A1021    C34095345\n",
       "13  A1021    C08548494\n",
       "14  A1021    C88594048\n",
       "15  A1021     D9440021\n",
       "16  A1021     D4954896"
      ]
     },
     "execution_count": 25,
     "metadata": {},
     "output_type": "execute_result"
    }
   ],
   "source": [
    "bank_data[['BankID','AccountID']].drop_duplicates()"
   ]
  },
  {
   "cell_type": "code",
   "execution_count": 26,
   "metadata": {},
   "outputs": [
    {
     "data": {
      "text/plain": [
       "0     False\n",
       "1     False\n",
       "2     False\n",
       "3     False\n",
       "4     False\n",
       "5     False\n",
       "6     False\n",
       "7     False\n",
       "8     False\n",
       "9     False\n",
       "10    False\n",
       "11    False\n",
       "12    False\n",
       "13    False\n",
       "14    False\n",
       "15    False\n",
       "16    False\n",
       "Name: AccountID, dtype: bool"
      ]
     },
     "execution_count": 26,
     "metadata": {},
     "output_type": "execute_result"
    }
   ],
   "source": [
    "bank_data['AccountID'].duplicated()"
   ]
  },
  {
   "cell_type": "code",
   "execution_count": 126,
   "metadata": {
    "collapsed": true
   },
   "outputs": [
    {
     "data": {
      "text/html": [
       "<div>\n",
       "<style scoped>\n",
       "    .dataframe tbody tr th:only-of-type {\n",
       "        vertical-align: middle;\n",
       "    }\n",
       "\n",
       "    .dataframe tbody tr th {\n",
       "        vertical-align: top;\n",
       "    }\n",
       "\n",
       "    .dataframe thead th {\n",
       "        text-align: right;\n",
       "    }\n",
       "</style>\n",
       "<table border=\"1\" class=\"dataframe\">\n",
       "  <thead>\n",
       "    <tr style=\"text-align: right;\">\n",
       "      <th></th>\n",
       "      <th>BankId</th>\n",
       "      <th>AccountID</th>\n",
       "    </tr>\n",
       "  </thead>\n",
       "  <tbody>\n",
       "    <tr>\n",
       "      <th>0</th>\n",
       "      <td>A1020</td>\n",
       "      <td>S39403030</td>\n",
       "    </tr>\n",
       "    <tr>\n",
       "      <th>1</th>\n",
       "      <td>A1020</td>\n",
       "      <td>S30495345</td>\n",
       "    </tr>\n",
       "    <tr>\n",
       "      <th>2</th>\n",
       "      <td>A1020</td>\n",
       "      <td>S234234432</td>\n",
       "    </tr>\n",
       "    <tr>\n",
       "      <th>3</th>\n",
       "      <td>A1020</td>\n",
       "      <td>C34534543</td>\n",
       "    </tr>\n",
       "    <tr>\n",
       "      <th>4</th>\n",
       "      <td>A1020</td>\n",
       "      <td>C34595044</td>\n",
       "    </tr>\n",
       "    <tr>\n",
       "      <th>5</th>\n",
       "      <td>A1020</td>\n",
       "      <td>C2304985345</td>\n",
       "    </tr>\n",
       "    <tr>\n",
       "      <th>6</th>\n",
       "      <td>A1020</td>\n",
       "      <td>D934530945</td>\n",
       "    </tr>\n",
       "    <tr>\n",
       "      <th>7</th>\n",
       "      <td>A1020</td>\n",
       "      <td>D940404984</td>\n",
       "    </tr>\n",
       "    <tr>\n",
       "      <th>8</th>\n",
       "      <td>A1020</td>\n",
       "      <td>D02340494r</td>\n",
       "    </tr>\n",
       "    <tr>\n",
       "      <th>9</th>\n",
       "      <td>A1021</td>\n",
       "      <td>S3405935845</td>\n",
       "    </tr>\n",
       "    <tr>\n",
       "      <th>10</th>\n",
       "      <td>A1021</td>\n",
       "      <td>S950504840</td>\n",
       "    </tr>\n",
       "    <tr>\n",
       "      <th>11</th>\n",
       "      <td>A1021</td>\n",
       "      <td>S94040958</td>\n",
       "    </tr>\n",
       "    <tr>\n",
       "      <th>12</th>\n",
       "      <td>A1021</td>\n",
       "      <td>C34095345</td>\n",
       "    </tr>\n",
       "    <tr>\n",
       "      <th>13</th>\n",
       "      <td>A1021</td>\n",
       "      <td>C08548494</td>\n",
       "    </tr>\n",
       "    <tr>\n",
       "      <th>14</th>\n",
       "      <td>A1021</td>\n",
       "      <td>C88594048</td>\n",
       "    </tr>\n",
       "    <tr>\n",
       "      <th>15</th>\n",
       "      <td>A1021</td>\n",
       "      <td>D9440021</td>\n",
       "    </tr>\n",
       "    <tr>\n",
       "      <th>16</th>\n",
       "      <td>A1021</td>\n",
       "      <td>D9440021</td>\n",
       "    </tr>\n",
       "    <tr>\n",
       "      <th>17</th>\n",
       "      <td>A1021</td>\n",
       "      <td>D495489</td>\n",
       "    </tr>\n",
       "  </tbody>\n",
       "</table>\n",
       "</div>"
      ],
      "text/plain": [
       "   BankId    AccountID\n",
       "0   A1020    S39403030\n",
       "1   A1020    S30495345\n",
       "2   A1020   S234234432\n",
       "3   A1020    C34534543\n",
       "4   A1020    C34595044\n",
       "5   A1020  C2304985345\n",
       "6   A1020   D934530945\n",
       "7   A1020   D940404984\n",
       "8   A1020   D02340494r\n",
       "9   A1021  S3405935845\n",
       "10  A1021   S950504840\n",
       "11  A1021    S94040958\n",
       "12  A1021    C34095345\n",
       "13  A1021    C08548494\n",
       "14  A1021    C88594048\n",
       "15  A1021     D9440021\n",
       "16  A1021     D9440021\n",
       "17  A1021      D495489"
      ]
     },
     "execution_count": 126,
     "metadata": {},
     "output_type": "execute_result"
    }
   ],
   "source": [
    "data=pd.read_excel(r'C:\\Users\\ELCOT\\OneDrive\\Documents\\B validation.xlsx')\n",
    "data"
   ]
  },
  {
   "cell_type": "code",
   "execution_count": 127,
   "metadata": {
    "collapsed": true
   },
   "outputs": [
    {
     "name": "stdout",
     "output_type": "stream",
     "text": [
      "   BankId    AccountID Account_type  len_id                 c\n",
      "0   A1020    S39403030            S       9    A1020S39403030\n",
      "1   A1020    S30495345            S       9    A1020S30495345\n",
      "2   A1020   S234234432            S      10   A1020S234234432\n",
      "3   A1020    C34534543            C       9    A1020C34534543\n",
      "4   A1020    C34595044            C       9    A1020C34595044\n",
      "5   A1020  C2304985345            C      11  A1020C2304985345\n",
      "6   A1020   D934530945            D      10   A1020D934530945\n",
      "7   A1020   D940404984            D      10   A1020D940404984\n",
      "8   A1020   D02340494r            D      10   A1020D02340494r\n",
      "9   A1021  S3405935845            S      11  A1021S3405935845\n",
      "10  A1021   S950504840            S      10   A1021S950504840\n",
      "11  A1021    S94040958            S       9    A1021S94040958\n",
      "12  A1021    C34095345            C       9    A1021C34095345\n",
      "13  A1021    C08548494            C       9    A1021C08548494\n",
      "14  A1021    C88594048            C       9    A1021C88594048\n",
      "15  A1021     D9440021            D       8     A1021D9440021\n",
      "16  A1021     D9440021            D       8     A1021D9440021\n",
      "17  A1021      D495489            D       7      A1021D495489\n"
     ]
    }
   ],
   "source": [
    "data['Account_type']=data['AccountID'].astype(str).str[:1]\n",
    "data['len_id']=data['AccountID'].astype(str).str.len()\n",
    "data['c']=data['BankId']+data['AccountID']\n",
    "print(data)"
   ]
  },
  {
   "cell_type": "code",
   "execution_count": 104,
   "metadata": {},
   "outputs": [
    {
     "name": "stdout",
     "output_type": "stream",
     "text": [
      "8    D02340494r\n",
      "Name: AccountID, dtype: object\n"
     ]
    }
   ],
   "source": [
    "print(data['AccountID'][data['AccountID'].astype(str).str[1:].str.isdigit()==False])"
   ]
  },
  {
   "cell_type": "code",
   "execution_count": 118,
   "metadata": {},
   "outputs": [],
   "source": [
    "#first step cleaning\n",
    "data.drop(data['AccountID'][data['AccountID'].astype(str).str[1:].\\\n",
    "                            str.isdigit()==False].index,inplace=True)\n",
    "data['n_in']=range(0,len(data))"
   ]
  },
  {
   "cell_type": "code",
   "execution_count": 151,
   "metadata": {},
   "outputs": [
    {
     "name": "stdout",
     "output_type": "stream",
     "text": [
      "    AccountID BankId       reason\n",
      "8  D02340494r  A1020  contain int\n"
     ]
    }
   ],
   "source": [
    "#error\n",
    "e1=data[['AccountID','BankId']][data['AccountID'].astype(str).str[1:].\\\n",
    "                            str.isdigit()==False]\n",
    "e1['reason']='contain int'\n",
    "print(e1)"
   ]
  },
  {
   "cell_type": "code",
   "execution_count": 119,
   "metadata": {
    "collapsed": true
   },
   "outputs": [
    {
     "data": {
      "text/html": [
       "<div>\n",
       "<style scoped>\n",
       "    .dataframe tbody tr th:only-of-type {\n",
       "        vertical-align: middle;\n",
       "    }\n",
       "\n",
       "    .dataframe tbody tr th {\n",
       "        vertical-align: top;\n",
       "    }\n",
       "\n",
       "    .dataframe thead th {\n",
       "        text-align: right;\n",
       "    }\n",
       "</style>\n",
       "<table border=\"1\" class=\"dataframe\">\n",
       "  <thead>\n",
       "    <tr style=\"text-align: right;\">\n",
       "      <th></th>\n",
       "      <th>BankId</th>\n",
       "      <th>AccountID</th>\n",
       "      <th>n_in</th>\n",
       "    </tr>\n",
       "  </thead>\n",
       "  <tbody>\n",
       "    <tr>\n",
       "      <th>0</th>\n",
       "      <td>A1020</td>\n",
       "      <td>S39403030</td>\n",
       "      <td>0</td>\n",
       "    </tr>\n",
       "    <tr>\n",
       "      <th>1</th>\n",
       "      <td>A1020</td>\n",
       "      <td>S30495345</td>\n",
       "      <td>1</td>\n",
       "    </tr>\n",
       "    <tr>\n",
       "      <th>2</th>\n",
       "      <td>A1020</td>\n",
       "      <td>S234234432</td>\n",
       "      <td>2</td>\n",
       "    </tr>\n",
       "    <tr>\n",
       "      <th>3</th>\n",
       "      <td>A1020</td>\n",
       "      <td>C34534543</td>\n",
       "      <td>3</td>\n",
       "    </tr>\n",
       "    <tr>\n",
       "      <th>4</th>\n",
       "      <td>A1020</td>\n",
       "      <td>C34595044</td>\n",
       "      <td>4</td>\n",
       "    </tr>\n",
       "    <tr>\n",
       "      <th>5</th>\n",
       "      <td>A1020</td>\n",
       "      <td>C2304985345</td>\n",
       "      <td>5</td>\n",
       "    </tr>\n",
       "    <tr>\n",
       "      <th>6</th>\n",
       "      <td>A1020</td>\n",
       "      <td>D934530945</td>\n",
       "      <td>6</td>\n",
       "    </tr>\n",
       "    <tr>\n",
       "      <th>7</th>\n",
       "      <td>A1020</td>\n",
       "      <td>D940404984</td>\n",
       "      <td>7</td>\n",
       "    </tr>\n",
       "    <tr>\n",
       "      <th>9</th>\n",
       "      <td>A1021</td>\n",
       "      <td>S3405935845</td>\n",
       "      <td>8</td>\n",
       "    </tr>\n",
       "    <tr>\n",
       "      <th>10</th>\n",
       "      <td>A1021</td>\n",
       "      <td>S950504840</td>\n",
       "      <td>9</td>\n",
       "    </tr>\n",
       "    <tr>\n",
       "      <th>11</th>\n",
       "      <td>A1021</td>\n",
       "      <td>S94040958</td>\n",
       "      <td>10</td>\n",
       "    </tr>\n",
       "    <tr>\n",
       "      <th>12</th>\n",
       "      <td>A1021</td>\n",
       "      <td>C34095345</td>\n",
       "      <td>11</td>\n",
       "    </tr>\n",
       "    <tr>\n",
       "      <th>13</th>\n",
       "      <td>A1021</td>\n",
       "      <td>C08548494</td>\n",
       "      <td>12</td>\n",
       "    </tr>\n",
       "    <tr>\n",
       "      <th>14</th>\n",
       "      <td>A1021</td>\n",
       "      <td>C88594048</td>\n",
       "      <td>13</td>\n",
       "    </tr>\n",
       "    <tr>\n",
       "      <th>15</th>\n",
       "      <td>A1021</td>\n",
       "      <td>D9440021</td>\n",
       "      <td>14</td>\n",
       "    </tr>\n",
       "    <tr>\n",
       "      <th>16</th>\n",
       "      <td>A1021</td>\n",
       "      <td>D9440021</td>\n",
       "      <td>15</td>\n",
       "    </tr>\n",
       "    <tr>\n",
       "      <th>17</th>\n",
       "      <td>A1021</td>\n",
       "      <td>D495489</td>\n",
       "      <td>16</td>\n",
       "    </tr>\n",
       "  </tbody>\n",
       "</table>\n",
       "</div>"
      ],
      "text/plain": [
       "   BankId    AccountID  n_in\n",
       "0   A1020    S39403030     0\n",
       "1   A1020    S30495345     1\n",
       "2   A1020   S234234432     2\n",
       "3   A1020    C34534543     3\n",
       "4   A1020    C34595044     4\n",
       "5   A1020  C2304985345     5\n",
       "6   A1020   D934530945     6\n",
       "7   A1020   D940404984     7\n",
       "9   A1021  S3405935845     8\n",
       "10  A1021   S950504840     9\n",
       "11  A1021    S94040958    10\n",
       "12  A1021    C34095345    11\n",
       "13  A1021    C08548494    12\n",
       "14  A1021    C88594048    13\n",
       "15  A1021     D9440021    14\n",
       "16  A1021     D9440021    15\n",
       "17  A1021      D495489    16"
      ]
     },
     "execution_count": 119,
     "metadata": {},
     "output_type": "execute_result"
    }
   ],
   "source": [
    "\n",
    "#print(data)\n",
    "data.dropna(inplace=True)\n",
    "#data=data.set_index('n_in')\n",
    "non_int=pd.DataFrame(data)\n",
    "non_int"
   ]
  },
  {
   "cell_type": "code",
   "execution_count": 113,
   "metadata": {
    "collapsed": true
   },
   "outputs": [
    {
     "name": "stdout",
     "output_type": "stream",
     "text": [
      "   BankId    AccountID Account_type  len_id                 c  n_in\n",
      "0   A1020    S39403030            S       9    A1020S39403030     0\n",
      "1   A1020    S30495345            S       9    A1020S30495345     1\n",
      "2   A1020   S234234432            S      10   A1020S234234432     2\n",
      "3   A1020    C34534543            C       9    A1020C34534543     3\n",
      "4   A1020    C34595044            C       9    A1020C34595044     4\n",
      "5   A1020  C2304985345            C      11  A1020C2304985345     5\n",
      "6   A1020   D934530945            D      10   A1020D934530945     6\n",
      "7   A1020   D940404984            D      10   A1020D940404984     7\n",
      "9   A1021  S3405935845            S      11  A1021S3405935845     8\n",
      "10  A1021   S950504840            S      10   A1021S950504840     9\n",
      "11  A1021    S94040958            S       9    A1021S94040958    10\n",
      "12  A1021    C34095345            C       9    A1021C34095345    11\n",
      "13  A1021    C08548494            C       9    A1021C08548494    12\n",
      "14  A1021    C88594048            C       9    A1021C88594048    13\n",
      "15  A1021     D9440021            D       8     A1021D9440021    14\n",
      "17  A1021      D495489            D       7      A1021D495489    16\n",
      "----------\n"
     ]
    },
    {
     "data": {
      "text/html": [
       "<div>\n",
       "<style scoped>\n",
       "    .dataframe tbody tr th:only-of-type {\n",
       "        vertical-align: middle;\n",
       "    }\n",
       "\n",
       "    .dataframe tbody tr th {\n",
       "        vertical-align: top;\n",
       "    }\n",
       "\n",
       "    .dataframe thead th {\n",
       "        text-align: right;\n",
       "    }\n",
       "</style>\n",
       "<table border=\"1\" class=\"dataframe\">\n",
       "  <thead>\n",
       "    <tr style=\"text-align: right;\">\n",
       "      <th></th>\n",
       "      <th>BankId</th>\n",
       "      <th>AccountID</th>\n",
       "      <th>Account_type</th>\n",
       "      <th>len_id</th>\n",
       "      <th>c</th>\n",
       "      <th>n_in</th>\n",
       "    </tr>\n",
       "  </thead>\n",
       "  <tbody>\n",
       "    <tr>\n",
       "      <th>0</th>\n",
       "      <td>A1020</td>\n",
       "      <td>S39403030</td>\n",
       "      <td>S</td>\n",
       "      <td>9</td>\n",
       "      <td>A1020S39403030</td>\n",
       "      <td>0</td>\n",
       "    </tr>\n",
       "    <tr>\n",
       "      <th>1</th>\n",
       "      <td>A1020</td>\n",
       "      <td>S30495345</td>\n",
       "      <td>S</td>\n",
       "      <td>9</td>\n",
       "      <td>A1020S30495345</td>\n",
       "      <td>1</td>\n",
       "    </tr>\n",
       "    <tr>\n",
       "      <th>2</th>\n",
       "      <td>A1020</td>\n",
       "      <td>S234234432</td>\n",
       "      <td>S</td>\n",
       "      <td>10</td>\n",
       "      <td>A1020S234234432</td>\n",
       "      <td>2</td>\n",
       "    </tr>\n",
       "    <tr>\n",
       "      <th>3</th>\n",
       "      <td>A1020</td>\n",
       "      <td>C34534543</td>\n",
       "      <td>C</td>\n",
       "      <td>9</td>\n",
       "      <td>A1020C34534543</td>\n",
       "      <td>3</td>\n",
       "    </tr>\n",
       "    <tr>\n",
       "      <th>4</th>\n",
       "      <td>A1020</td>\n",
       "      <td>C34595044</td>\n",
       "      <td>C</td>\n",
       "      <td>9</td>\n",
       "      <td>A1020C34595044</td>\n",
       "      <td>4</td>\n",
       "    </tr>\n",
       "    <tr>\n",
       "      <th>5</th>\n",
       "      <td>A1020</td>\n",
       "      <td>C2304985345</td>\n",
       "      <td>C</td>\n",
       "      <td>11</td>\n",
       "      <td>A1020C2304985345</td>\n",
       "      <td>5</td>\n",
       "    </tr>\n",
       "    <tr>\n",
       "      <th>6</th>\n",
       "      <td>A1020</td>\n",
       "      <td>D934530945</td>\n",
       "      <td>D</td>\n",
       "      <td>10</td>\n",
       "      <td>A1020D934530945</td>\n",
       "      <td>6</td>\n",
       "    </tr>\n",
       "    <tr>\n",
       "      <th>7</th>\n",
       "      <td>A1020</td>\n",
       "      <td>D940404984</td>\n",
       "      <td>D</td>\n",
       "      <td>10</td>\n",
       "      <td>A1020D940404984</td>\n",
       "      <td>7</td>\n",
       "    </tr>\n",
       "    <tr>\n",
       "      <th>9</th>\n",
       "      <td>A1021</td>\n",
       "      <td>S3405935845</td>\n",
       "      <td>S</td>\n",
       "      <td>11</td>\n",
       "      <td>A1021S3405935845</td>\n",
       "      <td>8</td>\n",
       "    </tr>\n",
       "    <tr>\n",
       "      <th>10</th>\n",
       "      <td>A1021</td>\n",
       "      <td>S950504840</td>\n",
       "      <td>S</td>\n",
       "      <td>10</td>\n",
       "      <td>A1021S950504840</td>\n",
       "      <td>9</td>\n",
       "    </tr>\n",
       "    <tr>\n",
       "      <th>11</th>\n",
       "      <td>A1021</td>\n",
       "      <td>S94040958</td>\n",
       "      <td>S</td>\n",
       "      <td>9</td>\n",
       "      <td>A1021S94040958</td>\n",
       "      <td>10</td>\n",
       "    </tr>\n",
       "    <tr>\n",
       "      <th>12</th>\n",
       "      <td>A1021</td>\n",
       "      <td>C34095345</td>\n",
       "      <td>C</td>\n",
       "      <td>9</td>\n",
       "      <td>A1021C34095345</td>\n",
       "      <td>11</td>\n",
       "    </tr>\n",
       "    <tr>\n",
       "      <th>13</th>\n",
       "      <td>A1021</td>\n",
       "      <td>C08548494</td>\n",
       "      <td>C</td>\n",
       "      <td>9</td>\n",
       "      <td>A1021C08548494</td>\n",
       "      <td>12</td>\n",
       "    </tr>\n",
       "    <tr>\n",
       "      <th>14</th>\n",
       "      <td>A1021</td>\n",
       "      <td>C88594048</td>\n",
       "      <td>C</td>\n",
       "      <td>9</td>\n",
       "      <td>A1021C88594048</td>\n",
       "      <td>13</td>\n",
       "    </tr>\n",
       "    <tr>\n",
       "      <th>15</th>\n",
       "      <td>A1021</td>\n",
       "      <td>D9440021</td>\n",
       "      <td>D</td>\n",
       "      <td>8</td>\n",
       "      <td>A1021D9440021</td>\n",
       "      <td>14</td>\n",
       "    </tr>\n",
       "    <tr>\n",
       "      <th>17</th>\n",
       "      <td>A1021</td>\n",
       "      <td>D495489</td>\n",
       "      <td>D</td>\n",
       "      <td>7</td>\n",
       "      <td>A1021D495489</td>\n",
       "      <td>16</td>\n",
       "    </tr>\n",
       "  </tbody>\n",
       "</table>\n",
       "</div>"
      ],
      "text/plain": [
       "   BankId    AccountID Account_type  len_id                 c  n_in\n",
       "0   A1020    S39403030            S       9    A1020S39403030     0\n",
       "1   A1020    S30495345            S       9    A1020S30495345     1\n",
       "2   A1020   S234234432            S      10   A1020S234234432     2\n",
       "3   A1020    C34534543            C       9    A1020C34534543     3\n",
       "4   A1020    C34595044            C       9    A1020C34595044     4\n",
       "5   A1020  C2304985345            C      11  A1020C2304985345     5\n",
       "6   A1020   D934530945            D      10   A1020D934530945     6\n",
       "7   A1020   D940404984            D      10   A1020D940404984     7\n",
       "9   A1021  S3405935845            S      11  A1021S3405935845     8\n",
       "10  A1021   S950504840            S      10   A1021S950504840     9\n",
       "11  A1021    S94040958            S       9    A1021S94040958    10\n",
       "12  A1021    C34095345            C       9    A1021C34095345    11\n",
       "13  A1021    C08548494            C       9    A1021C08548494    12\n",
       "14  A1021    C88594048            C       9    A1021C88594048    13\n",
       "15  A1021     D9440021            D       8     A1021D9440021    14\n",
       "17  A1021      D495489            D       7      A1021D495489    16"
      ]
     },
     "execution_count": 113,
     "metadata": {},
     "output_type": "execute_result"
    }
   ],
   "source": [
    "#second strp cleaning\n",
    "non_int.drop_duplicates(subset=['BankId','AccountID'],inplace=True)\n",
    "print(non_int)\n",
    "print('----------')\n",
    "d=non_int\n",
    "d"
   ]
  },
  {
   "cell_type": "code",
   "execution_count": 153,
   "metadata": {},
   "outputs": [
    {
     "data": {
      "text/html": [
       "<div>\n",
       "<style scoped>\n",
       "    .dataframe tbody tr th:only-of-type {\n",
       "        vertical-align: middle;\n",
       "    }\n",
       "\n",
       "    .dataframe tbody tr th {\n",
       "        vertical-align: top;\n",
       "    }\n",
       "\n",
       "    .dataframe thead th {\n",
       "        text-align: right;\n",
       "    }\n",
       "</style>\n",
       "<table border=\"1\" class=\"dataframe\">\n",
       "  <thead>\n",
       "    <tr style=\"text-align: right;\">\n",
       "      <th></th>\n",
       "      <th>BankId</th>\n",
       "      <th>AccountID</th>\n",
       "      <th>reason</th>\n",
       "    </tr>\n",
       "  </thead>\n",
       "  <tbody>\n",
       "    <tr>\n",
       "      <th>16</th>\n",
       "      <td>A1021</td>\n",
       "      <td>D9440021</td>\n",
       "      <td>duplicated</td>\n",
       "    </tr>\n",
       "  </tbody>\n",
       "</table>\n",
       "</div>"
      ],
      "text/plain": [
       "   BankId AccountID      reason\n",
       "16  A1021  D9440021  duplicated"
      ]
     },
     "execution_count": 153,
     "metadata": {},
     "output_type": "execute_result"
    }
   ],
   "source": [
    "#e2\n",
    "n=non_int[non_int[['BankId','AccountID']].duplicated()]\n",
    "e2=n[['BankId','AccountID']]\n",
    "e2['reason']='duplicated'\n",
    "e2"
   ]
  },
  {
   "cell_type": "code",
   "execution_count": 129,
   "metadata": {},
   "outputs": [],
   "source": [
    "L=d[['AccountID','BankId','Account_type']][d['AccountID'].astype(str).str.len()>8]"
   ]
  },
  {
   "cell_type": "code",
   "execution_count": 154,
   "metadata": {},
   "outputs": [
    {
     "data": {
      "text/html": [
       "<div>\n",
       "<style scoped>\n",
       "    .dataframe tbody tr th:only-of-type {\n",
       "        vertical-align: middle;\n",
       "    }\n",
       "\n",
       "    .dataframe tbody tr th {\n",
       "        vertical-align: top;\n",
       "    }\n",
       "\n",
       "    .dataframe thead th {\n",
       "        text-align: right;\n",
       "    }\n",
       "</style>\n",
       "<table border=\"1\" class=\"dataframe\">\n",
       "  <thead>\n",
       "    <tr style=\"text-align: right;\">\n",
       "      <th></th>\n",
       "      <th>AccountID</th>\n",
       "      <th>BankId</th>\n",
       "      <th>reason</th>\n",
       "    </tr>\n",
       "  </thead>\n",
       "  <tbody>\n",
       "    <tr>\n",
       "      <th>17</th>\n",
       "      <td>D495489</td>\n",
       "      <td>A1021</td>\n",
       "      <td>length</td>\n",
       "    </tr>\n",
       "  </tbody>\n",
       "</table>\n",
       "</div>"
      ],
      "text/plain": [
       "   AccountID BankId  reason\n",
       "17   D495489  A1021  length"
      ]
     },
     "execution_count": 154,
     "metadata": {},
     "output_type": "execute_result"
    }
   ],
   "source": [
    "e3=d[['AccountID','BankId']][d['AccountID'].astype(str).str.len()<8]\n",
    "e3['reason']='length'\n",
    "e3"
   ]
  },
  {
   "cell_type": "code",
   "execution_count": 86,
   "metadata": {
    "scrolled": true
   },
   "outputs": [
    {
     "name": "stdout",
     "output_type": "stream",
     "text": [
      "   Account_type    AccountID BankId\n",
      "0             S    S39403030  A1020\n",
      "1             S    S30495345  A1020\n",
      "2             S   S234234432  A1020\n",
      "3             C    C34534543  A1020\n",
      "4             C    C34595044  A1020\n",
      "5             C  C2304985345  A1020\n",
      "6             D   D934530945  A1020\n",
      "7             D   D940404984  A1020\n",
      "8             S  S3405935845  A1021\n",
      "9             S   S950504840  A1021\n",
      "10            S    S94040958  A1021\n",
      "11            C    C34095345  A1021\n",
      "12            C    C08548494  A1021\n",
      "13            C    C88594048  A1021\n"
     ]
    }
   ],
   "source": [
    "#uploading into target\n",
    "target_account=pd.DataFrame(columns={'AccountID','BankId','Account_type'})\n",
    "target_account=target_account.append(L,ignore_index=True)\n",
    "print(target_account)"
   ]
  },
  {
   "cell_type": "code",
   "execution_count": 187,
   "metadata": {},
   "outputs": [
    {
     "data": {
      "text/html": [
       "<div>\n",
       "<style scoped>\n",
       "    .dataframe tbody tr th:only-of-type {\n",
       "        vertical-align: middle;\n",
       "    }\n",
       "\n",
       "    .dataframe tbody tr th {\n",
       "        vertical-align: top;\n",
       "    }\n",
       "\n",
       "    .dataframe thead th {\n",
       "        text-align: right;\n",
       "    }\n",
       "</style>\n",
       "<table border=\"1\" class=\"dataframe\">\n",
       "  <thead>\n",
       "    <tr style=\"text-align: right;\">\n",
       "      <th></th>\n",
       "      <th>seq</th>\n",
       "      <th>AccountID</th>\n",
       "      <th>BankId</th>\n",
       "      <th>record</th>\n",
       "      <th>reason</th>\n",
       "    </tr>\n",
       "  </thead>\n",
       "  <tbody>\n",
       "    <tr>\n",
       "      <th>8</th>\n",
       "      <td>1</td>\n",
       "      <td>D02340494r</td>\n",
       "      <td>A1020</td>\n",
       "      <td>D02340494rA1020</td>\n",
       "      <td>contain int</td>\n",
       "    </tr>\n",
       "    <tr>\n",
       "      <th>16</th>\n",
       "      <td>2</td>\n",
       "      <td>D9440021</td>\n",
       "      <td>A1021</td>\n",
       "      <td>D9440021A1021</td>\n",
       "      <td>duplicated</td>\n",
       "    </tr>\n",
       "    <tr>\n",
       "      <th>17</th>\n",
       "      <td>3</td>\n",
       "      <td>D495489</td>\n",
       "      <td>A1021</td>\n",
       "      <td>D495489A1021</td>\n",
       "      <td>length</td>\n",
       "    </tr>\n",
       "  </tbody>\n",
       "</table>\n",
       "</div>"
      ],
      "text/plain": [
       "    seq   AccountID BankId           record       reason\n",
       "8     1  D02340494r  A1020  D02340494rA1020  contain int\n",
       "16    2    D9440021  A1021    D9440021A1021   duplicated\n",
       "17    3     D495489  A1021     D495489A1021       length"
      ]
     },
     "execution_count": 187,
     "metadata": {},
     "output_type": "execute_result"
    }
   ],
   "source": [
    "err=pd.concat([e1,e2,e3])\n",
    "s=range(1,4)#df.insert(2, 'new-col', data)\n",
    "err.insert(0,'seq',s)\n",
    "r=err['AccountID']+err['BankId']\n",
    "err.insert(3,'record',r)\n",
    "err"
   ]
  },
  {
   "cell_type": "code",
   "execution_count": 183,
   "metadata": {
    "scrolled": true
   },
   "outputs": [
    {
     "name": "stdout",
     "output_type": "stream",
     "text": [
      "     AccountID BankId       reason\n",
      "8   D02340494r  A1020  contain int\n",
      "16    D9440021  A1021   duplicated\n",
      "17     D495489  A1021       length\n"
     ]
    }
   ],
   "source": [
    "seq=range(1,4)\n",
    "err=pd.DataFrame(index=seq)\n",
    "err=pd.concat([e1,e2,e3])\n",
    "print(err)"
   ]
  },
  {
   "cell_type": "code",
   "execution_count": 167,
   "metadata": {},
   "outputs": [
    {
     "data": {
      "text/plain": [
       "8     D02340494rA1020\n",
       "16      D9440021A1021\n",
       "17       D495489A1021\n",
       "dtype: object"
      ]
     },
     "execution_count": 167,
     "metadata": {},
     "output_type": "execute_result"
    }
   ],
   "source": [
    "err['AccountID']+err['BankId']"
   ]
  },
  {
   "cell_type": "code",
   "execution_count": 98,
   "metadata": {},
   "outputs": [
    {
     "name": "stdout",
     "output_type": "stream",
     "text": [
      "   BankId    AccountID Account_type  len_id                 c\n",
      "3   A1020    C34534543            C       9    A1020C34534543\n",
      "4   A1020    C34595044            C       9    A1020C34595044\n",
      "5   A1020  C2304985345            C      11  A1020C2304985345\n",
      "12  A1021    C34095345            C       9    A1021C34095345\n",
      "13  A1021    C08548494            C       9    A1021C08548494\n",
      "14  A1021    C88594048            C       9    A1021C88594048\n",
      "   BankId   AccountID Account_type  len_id                c\n",
      "6   A1020  D934530945            D      10  A1020D934530945\n",
      "7   A1020  D940404984            D      10  A1020D940404984\n",
      "8   A1020  D02340494r            D      10  A1020D02340494r\n",
      "15  A1021    D9440021            D       8    A1021D9440021\n",
      "16  A1021    D9440021            D       8    A1021D9440021\n",
      "17  A1021     D495489            D       7     A1021D495489\n"
     ]
    }
   ],
   "source": [
    "a=[]\n",
    "for i in data['Account_type']:\n",
    "    if i.lower() not in('s'):\n",
    "        if i not in a:\n",
    "            a.append(i)\n",
    "for j in range(len(a)):\n",
    "    p=data[data['Account_type']==a[j]]\n",
    "    print(p)"
   ]
  },
  {
   "cell_type": "code",
   "execution_count": 1,
   "metadata": {},
   "outputs": [
    {
     "name": "stdout",
     "output_type": "stream",
     "text": [
      "hi\n",
      "hi\n",
      "hi\n"
     ]
    }
   ],
   "source": [
    "a=3\n",
    "while a>0:\n",
    "    print('hi')\n",
    "    a-=1"
   ]
  },
  {
   "cell_type": "code",
   "execution_count": null,
   "metadata": {},
   "outputs": [],
   "source": []
  },
  {
   "cell_type": "code",
   "execution_count": null,
   "metadata": {},
   "outputs": [],
   "source": []
  },
  {
   "cell_type": "code",
   "execution_count": 14,
   "metadata": {},
   "outputs": [
    {
     "name": "stdout",
     "output_type": "stream",
     "text": [
      "   Color      Shape  Price\n",
      "0  Green  Rectangle     10\n",
      "1  Green  Rectangle     15\n",
      "2  Green     Square      5\n"
     ]
    }
   ],
   "source": [
    "from pandas import DataFrame\n",
    "\n",
    "boxes = {'Color': ['Green','Green','Green','Blue','Blue','Red','Red','Red'],\n",
    "         'Shape': ['Rectangle','Rectangle','Square','Rectangle','Square','Square','Square','Rectangle'],\n",
    "         'Price': [10,15,5,5,10,15,15,5]\n",
    "        }\n",
    "\n",
    "df = DataFrame(boxes, columns= ['Color','Shape','Price'])\n",
    "\n",
    "select_color = df.loc[df['Color'] == 'Green']\n",
    "print (select_color)"
   ]
  },
  {
   "cell_type": "code",
   "execution_count": null,
   "metadata": {},
   "outputs": [],
   "source": [
    "import numpy as np\n",
    "c=data[['BankId','AccountID',]]\n",
    "np.unique(c)"
   ]
  },
  {
   "cell_type": "code",
   "execution_count": null,
   "metadata": {},
   "outputs": [],
   "source": []
  },
  {
   "cell_type": "code",
   "execution_count": null,
   "metadata": {},
   "outputs": [],
   "source": []
  },
  {
   "cell_type": "code",
   "execution_count": null,
   "metadata": {},
   "outputs": [],
   "source": []
  }
 ],
 "metadata": {
  "kernelspec": {
   "display_name": "Python 3",
   "language": "python",
   "name": "python3"
  },
  "language_info": {
   "codemirror_mode": {
    "name": "ipython",
    "version": 3
   },
   "file_extension": ".py",
   "mimetype": "text/x-python",
   "name": "python",
   "nbconvert_exporter": "python",
   "pygments_lexer": "ipython3",
   "version": "3.8.5"
  }
 },
 "nbformat": 4,
 "nbformat_minor": 4
}
