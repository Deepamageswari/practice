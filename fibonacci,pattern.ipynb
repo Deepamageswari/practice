{
 "cells": [
  {
   "cell_type": "code",
   "execution_count": 21,
   "metadata": {
    "collapsed": true
   },
   "outputs": [
    {
     "name": "stdout",
     "output_type": "stream",
     "text": [
      "A\n",
      "B\n",
      "C\n",
      "D\n",
      "E\n",
      "F\n",
      "G\n",
      "H\n",
      "I\n",
      "J\n",
      "K\n",
      "L\n",
      "M\n",
      "N\n",
      "O\n",
      "P\n",
      "Q\n",
      "R\n",
      "S\n",
      "T\n",
      "U\n",
      "V\n",
      "W\n",
      "X\n",
      "Y\n",
      "Z\n",
      "[\n",
      "\\\n",
      "]\n",
      "^\n",
      "_\n",
      "`\n",
      "a\n",
      "b\n"
     ]
    }
   ],
   "source": [
    "for i in range(65,99):\n",
    "     print(chr(i))"
   ]
  },
  {
   "cell_type": "code",
   "execution_count": 22,
   "metadata": {},
   "outputs": [
    {
     "name": "stdout",
     "output_type": "stream",
     "text": [
      "21\n"
     ]
    }
   ],
   "source": [
    "n=[1,2,3,4,5,6,7]\n",
    "s=0\n",
    "for i in n:\n",
    "    if i <3:\n",
    "        s=s+i\n",
    "    if i>4:\n",
    "        s=s+i\n",
    "print(s)"
   ]
  },
  {
   "cell_type": "code",
   "execution_count": 27,
   "metadata": {},
   "outputs": [
    {
     "name": "stdout",
     "output_type": "stream",
     "text": [
      "[[1, 2], [4, 5], 12, 34, [45, 67]]\n",
      "[1, 2, 4, 5, 12, 34, 45, 67]\n"
     ]
    }
   ],
   "source": [
    "a=[[1,2],[4,5],12,34,[45,67]]\n",
    "l=[]\n",
    "for i in a:\n",
    "    if type(i)==list:\n",
    "        l.extend(i)\n",
    "    if type(i)!=list:\n",
    "        l.append(i)\n",
    "print(a)\n",
    "print(l)"
   ]
  },
  {
   "cell_type": "code",
   "execution_count": 7,
   "metadata": {},
   "outputs": [
    {
     "name": "stdout",
     "output_type": "stream",
     "text": [
      "yes p p\n"
     ]
    }
   ],
   "source": [
    "h='apple'\n",
    "for i in range(0,len(h)-1):\n",
    "    if h[i]==h[i+1]:\n",
    "        print('yes',h[i],h[i+1])"
   ]
  },
  {
   "cell_type": "code",
   "execution_count": 30,
   "metadata": {},
   "outputs": [
    {
     "name": "stdout",
     "output_type": "stream",
     "text": [
      "num9\n",
      "0\n",
      "1\n",
      "1\n",
      "2\n",
      "3\n",
      "5\n",
      "8\n",
      "13\n",
      "21\n"
     ]
    }
   ],
   "source": [
    "fib=0,1,1,2,3,5,8,13,21\n",
    "a=0\n",
    "b=1\n",
    "num=int(input('num'))\n",
    "c=0\n",
    "while c<num:\n",
    "    print(a)\n",
    "    nth=a+b\n",
    "    a=b\n",
    "    b=nth\n",
    "    c+=1\n"
   ]
  },
  {
   "cell_type": "code",
   "execution_count": 57,
   "metadata": {
    "scrolled": true
   },
   "outputs": [
    {
     "data": {
      "text/html": [
       "<div>\n",
       "<style scoped>\n",
       "    .dataframe tbody tr th:only-of-type {\n",
       "        vertical-align: middle;\n",
       "    }\n",
       "\n",
       "    .dataframe tbody tr th {\n",
       "        vertical-align: top;\n",
       "    }\n",
       "\n",
       "    .dataframe thead th {\n",
       "        text-align: right;\n",
       "    }\n",
       "</style>\n",
       "<table border=\"1\" class=\"dataframe\">\n",
       "  <thead>\n",
       "    <tr style=\"text-align: right;\">\n",
       "      <th></th>\n",
       "      <th>name</th>\n",
       "      <th>age</th>\n",
       "      <th>city</th>\n",
       "      <th>experience</th>\n",
       "    </tr>\n",
       "  </thead>\n",
       "  <tbody>\n",
       "    <tr>\n",
       "      <th>0</th>\n",
       "      <td>jack</td>\n",
       "      <td>34</td>\n",
       "      <td>sydney</td>\n",
       "      <td>5</td>\n",
       "    </tr>\n",
       "    <tr>\n",
       "      <th>1</th>\n",
       "      <td>riti</td>\n",
       "      <td>31</td>\n",
       "      <td>delhi</td>\n",
       "      <td>7</td>\n",
       "    </tr>\n",
       "    <tr>\n",
       "      <th>2</th>\n",
       "      <td>aadi</td>\n",
       "      <td>16</td>\n",
       "      <td>londen</td>\n",
       "      <td>11</td>\n",
       "    </tr>\n",
       "    <tr>\n",
       "      <th>3</th>\n",
       "      <td>mark</td>\n",
       "      <td>41</td>\n",
       "      <td>delhi</td>\n",
       "      <td>12</td>\n",
       "    </tr>\n",
       "    <tr>\n",
       "      <th>4</th>\n",
       "      <td>hi</td>\n",
       "      <td>4</td>\n",
       "      <td>ln</td>\n",
       "      <td>45</td>\n",
       "    </tr>\n",
       "  </tbody>\n",
       "</table>\n",
       "</div>"
      ],
      "text/plain": [
       "   name  age    city  experience\n",
       "0  jack   34  sydney           5\n",
       "1  riti   31   delhi           7\n",
       "2  aadi   16  londen          11\n",
       "3  mark   41   delhi          12\n",
       "4    hi    4      ln          45"
      ]
     },
     "execution_count": 57,
     "metadata": {},
     "output_type": "execute_result"
    }
   ],
   "source": [
    "'''find the sum,max,age of the below df\n",
    "employees=[('jack',34,'sydney',5),('riti',31,'delhi',7),('aadi',16,'londen',11),('mark',41,'delhi',12)]\n",
    "df=pd.DataFrame(employees,columns=['name','age','city','experience'])'''\n",
    "import pandas as pd\n",
    "employees=[('jack',34,'sydney',5),('riti',31,'delhi',7),('aadi',16,'londen',11),('mark',41,'delhi',12)]\n",
    "df=pd.DataFrame(employees,columns=['name','age','city','experience'])\n",
    "df.loc[len(df)]=('hi',4,'ln',45)\n",
    "df"
   ]
  },
  {
   "cell_type": "code",
   "execution_count": 63,
   "metadata": {},
   "outputs": [
    {
     "data": {
      "text/html": [
       "<div>\n",
       "<style scoped>\n",
       "    .dataframe tbody tr th:only-of-type {\n",
       "        vertical-align: middle;\n",
       "    }\n",
       "\n",
       "    .dataframe tbody tr th {\n",
       "        vertical-align: top;\n",
       "    }\n",
       "\n",
       "    .dataframe thead th {\n",
       "        text-align: right;\n",
       "    }\n",
       "</style>\n",
       "<table border=\"1\" class=\"dataframe\">\n",
       "  <thead>\n",
       "    <tr style=\"text-align: right;\">\n",
       "      <th></th>\n",
       "      <th>name</th>\n",
       "      <th>age</th>\n",
       "      <th>city</th>\n",
       "      <th>experience</th>\n",
       "    </tr>\n",
       "  </thead>\n",
       "  <tbody>\n",
       "    <tr>\n",
       "      <th>1</th>\n",
       "      <td>riti</td>\n",
       "      <td>31</td>\n",
       "      <td>delhi</td>\n",
       "      <td>7</td>\n",
       "    </tr>\n",
       "    <tr>\n",
       "      <th>2</th>\n",
       "      <td>aadi</td>\n",
       "      <td>16</td>\n",
       "      <td>londen</td>\n",
       "      <td>11</td>\n",
       "    </tr>\n",
       "    <tr>\n",
       "      <th>3</th>\n",
       "      <td>mark</td>\n",
       "      <td>41</td>\n",
       "      <td>delhi</td>\n",
       "      <td>12</td>\n",
       "    </tr>\n",
       "  </tbody>\n",
       "</table>\n",
       "</div>"
      ],
      "text/plain": [
       "   name  age    city  experience\n",
       "1  riti   31   delhi           7\n",
       "2  aadi   16  londen          11\n",
       "3  mark   41   delhi          12"
      ]
     },
     "execution_count": 63,
     "metadata": {},
     "output_type": "execute_result"
    }
   ],
   "source": [
    "#df.drop([2],inplace=True,axis=0)\n",
    "df.iloc[1:4,:]"
   ]
  },
  {
   "cell_type": "code",
   "execution_count": 47,
   "metadata": {},
   "outputs": [
    {
     "data": {
      "text/plain": [
       "80"
      ]
     },
     "execution_count": 47,
     "metadata": {},
     "output_type": "execute_result"
    }
   ],
   "source": [
    "sum(df['experience'])"
   ]
  },
  {
   "cell_type": "code",
   "execution_count": 45,
   "metadata": {
    "scrolled": true
   },
   "outputs": [
    {
     "name": "stdout",
     "output_type": "stream",
     "text": [
      "2\n"
     ]
    }
   ],
   "source": [
    "\"dictionary keys into values and values into keys\"\n",
    "dict = {'a': 1, 'b': 2, 'c': 3}\n",
    "print(dict['b'])"
   ]
  },
  {
   "cell_type": "code",
   "execution_count": 51,
   "metadata": {},
   "outputs": [
    {
     "data": {
      "text/plain": [
       "{1: 'a', 2: 'b', 3: 'c'}"
      ]
     },
     "execution_count": 51,
     "metadata": {},
     "output_type": "execute_result"
    }
   ],
   "source": [
    "dic={j:i for i,j in dict.items()}\n",
    "dict"
   ]
  },
  {
   "cell_type": "code",
   "execution_count": 46,
   "metadata": {},
   "outputs": [
    {
     "name": "stdout",
     "output_type": "stream",
     "text": [
      "{1: 'a', 2: 'b', 3: 'c'}\n"
     ]
    }
   ],
   "source": [
    "dict = {value:key for key, value in dict.items()}\n",
    "print(dict)"
   ]
  },
  {
   "cell_type": "code",
   "execution_count": 110,
   "metadata": {},
   "outputs": [
    {
     "name": "stdout",
     "output_type": "stream",
     "text": [
      "1 \n",
      "\n",
      "1 3 \n",
      "\n",
      "1 3 5 \n",
      "\n",
      "1 3 5 7 \n",
      "\n",
      "1 3 5 7 9 \n",
      "\n"
     ]
    }
   ],
   "source": [
    "for i in range(0,10,2):\n",
    "    for j in range(0,i+1,2):\n",
    "        print(j+1,end=' ')\n",
    "    print('\\n')"
   ]
  },
  {
   "cell_type": "code",
   "execution_count": 107,
   "metadata": {
    "scrolled": false
   },
   "outputs": [
    {
     "name": "stdout",
     "output_type": "stream",
     "text": [
      "1 2 3 4 5 6  \n",
      "1 2 3 4 5  \n",
      "1 2 3 4  \n",
      "1 2 3  \n",
      "1 2  \n",
      "1  \n"
     ]
    }
   ],
   "source": [
    "for i in range(6,0,-1):\n",
    "    for j in range(0,i):\n",
    "        print(j+1,end=' ')\n",
    "    print(\" \")"
   ]
  },
  {
   "cell_type": "code",
   "execution_count": 178,
   "metadata": {},
   "outputs": [
    {
     "name": "stdout",
     "output_type": "stream",
     "text": [
      "num6\n",
      "          0* \n",
      "        1*1* \n",
      "      2*2*2* \n",
      "    3*3*3*3* \n",
      "  4*4*4*4*4* \n",
      "5*5*5*5*5*5* \n"
     ]
    }
   ],
   "source": [
    "num=int(input('num'))\n",
    "n=2*num-2\n",
    "for i in range(0,num):\n",
    "    for j in range(0,n):\n",
    "        print(end=' ')\n",
    "    n=n-2\n",
    "    for j in range(0,i+1):\n",
    "        print(i,end=('*'))\n",
    "    print(\" \")"
   ]
  },
  {
   "cell_type": "code",
   "execution_count": 177,
   "metadata": {
    "scrolled": false
   },
   "outputs": [
    {
     "name": "stdout",
     "output_type": "stream",
     "text": [
      "num6\n",
      "00000000000* \n",
      "000000001*1* \n",
      "0000002*2*2* \n",
      "00003*3*3*3* \n",
      "004*4*4*4*4* \n",
      "5*5*5*5*5*5* \n"
     ]
    }
   ],
   "source": [
    "num=int(input('num'))\n",
    "n=2*num-2\n",
    "for i in range(0,num):\n",
    "    for j in range(0,n):\n",
    "        print(end='0')\n",
    "    n=n-2\n",
    "    for j in range(0,i+1):\n",
    "        print(i,end=('*'))\n",
    "    print(\" \")"
   ]
  },
  {
   "cell_type": "code",
   "execution_count": 176,
   "metadata": {},
   "outputs": [
    {
     "name": "stdout",
     "output_type": "stream",
     "text": [
      "0000008\n",
      "8\n",
      "8\n",
      "8\n",
      "8\n",
      "8\n",
      "p\n"
     ]
    }
   ],
   "source": [
    "for i in range(6):\n",
    "    print(end=\"0\")\n",
    "for j in range(6):\n",
    "    print('8')\n",
    "print('p')"
   ]
  },
  {
   "cell_type": "code",
   "execution_count": 169,
   "metadata": {},
   "outputs": [
    {
     "name": "stdout",
     "output_type": "stream",
     "text": [
      "0l"
     ]
    }
   ],
   "source": [
    "print(end='0')\n",
    "print(end='l')"
   ]
  },
  {
   "cell_type": "code",
   "execution_count": 166,
   "metadata": {},
   "outputs": [
    {
     "name": "stdout",
     "output_type": "stream",
     "text": [
      "Welcome toGeeksforGeeks "
     ]
    }
   ],
   "source": [
    "print(\"Welcome to\" , end='') \n",
    "print(\"GeeksforGeeks\", end=' ')"
   ]
  },
  {
   "cell_type": "code",
   "execution_count": 161,
   "metadata": {},
   "outputs": [
    {
     "name": "stdout",
     "output_type": "stream",
     "text": [
      "hi i\n"
     ]
    }
   ],
   "source": [
    "print('hi',end=' ')\n",
    "print('i')"
   ]
  },
  {
   "cell_type": "code",
   "execution_count": 152,
   "metadata": {},
   "outputs": [
    {
     "name": "stdout",
     "output_type": "stream",
     "text": [
      "5*5*5*5*5*5*"
     ]
    }
   ],
   "source": [
    "for j in range(0,n):\n",
    "    print(end=' ')\n",
    "n=n-2\n",
    "for j in range(0,i+1):\n",
    "    print(i,end=('*'))"
   ]
  },
  {
   "cell_type": "code",
   "execution_count": 149,
   "metadata": {},
   "outputs": [
    {
     "name": "stdout",
     "output_type": "stream",
     "text": [
      "0*1*2*3*4*5*"
     ]
    }
   ],
   "source": [
    "for j in range(0,6):\n",
    "        print(j,end=\"*\")"
   ]
  },
  {
   "cell_type": "code",
   "execution_count": 150,
   "metadata": {},
   "outputs": [
    {
     "name": "stdout",
     "output_type": "stream",
     "text": [
      "5*5*5*5*5*5*"
     ]
    }
   ],
   "source": [
    "for j in range(0,i+1):\n",
    "        print(i,end=('*'))"
   ]
  },
  {
   "cell_type": "code",
   "execution_count": null,
   "metadata": {},
   "outputs": [],
   "source": []
  },
  {
   "cell_type": "code",
   "execution_count": null,
   "metadata": {},
   "outputs": [],
   "source": []
  },
  {
   "cell_type": "code",
   "execution_count": null,
   "metadata": {},
   "outputs": [],
   "source": []
  },
  {
   "cell_type": "code",
   "execution_count": null,
   "metadata": {},
   "outputs": [],
   "source": []
  },
  {
   "cell_type": "code",
   "execution_count": null,
   "metadata": {},
   "outputs": [],
   "source": []
  },
  {
   "cell_type": "code",
   "execution_count": null,
   "metadata": {},
   "outputs": [],
   "source": []
  },
  {
   "cell_type": "code",
   "execution_count": null,
   "metadata": {},
   "outputs": [],
   "source": []
  },
  {
   "cell_type": "code",
   "execution_count": null,
   "metadata": {},
   "outputs": [],
   "source": []
  },
  {
   "cell_type": "code",
   "execution_count": null,
   "metadata": {},
   "outputs": [],
   "source": []
  },
  {
   "cell_type": "code",
   "execution_count": null,
   "metadata": {},
   "outputs": [],
   "source": []
  },
  {
   "cell_type": "code",
   "execution_count": null,
   "metadata": {},
   "outputs": [],
   "source": []
  },
  {
   "cell_type": "code",
   "execution_count": null,
   "metadata": {},
   "outputs": [],
   "source": []
  },
  {
   "cell_type": "code",
   "execution_count": null,
   "metadata": {},
   "outputs": [],
   "source": []
  },
  {
   "cell_type": "code",
   "execution_count": null,
   "metadata": {},
   "outputs": [],
   "source": []
  },
  {
   "cell_type": "code",
   "execution_count": null,
   "metadata": {},
   "outputs": [],
   "source": []
  },
  {
   "cell_type": "code",
   "execution_count": null,
   "metadata": {},
   "outputs": [],
   "source": []
  },
  {
   "cell_type": "code",
   "execution_count": null,
   "metadata": {},
   "outputs": [],
   "source": []
  },
  {
   "cell_type": "code",
   "execution_count": null,
   "metadata": {},
   "outputs": [],
   "source": []
  },
  {
   "cell_type": "code",
   "execution_count": null,
   "metadata": {},
   "outputs": [],
   "source": []
  }
 ],
 "metadata": {
  "kernelspec": {
   "display_name": "Python 3",
   "language": "python",
   "name": "python3"
  },
  "language_info": {
   "codemirror_mode": {
    "name": "ipython",
    "version": 3
   },
   "file_extension": ".py",
   "mimetype": "text/x-python",
   "name": "python",
   "nbconvert_exporter": "python",
   "pygments_lexer": "ipython3",
   "version": "3.8.5"
  }
 },
 "nbformat": 4,
 "nbformat_minor": 4
}
