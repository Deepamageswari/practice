{
 "cells": [
  {
   "cell_type": "code",
   "execution_count": 1,
   "metadata": {},
   "outputs": [],
   "source": [
    "import pandas as pd"
   ]
  },
  {
   "cell_type": "code",
   "execution_count": 3,
   "metadata": {},
   "outputs": [],
   "source": [
    "CONTRACT_PAYMENT_TERMS=pd.DataFrame(CONTRACT_PAYMENT_TERMS)"
   ]
  },
  {
   "cell_type": "code",
   "execution_count": 2,
   "metadata": {},
   "outputs": [],
   "source": [
    "CONTRACT_PAYMENT_TERMS={'cpt_id':[100,101,102,103],'freq_of_pmt':['monthly','quarter','half yearly','yearly']}"
   ]
  },
  {
   "cell_type": "code",
   "execution_count": 4,
   "metadata": {
    "collapsed": true
   },
   "outputs": [
    {
     "data": {
      "text/html": [
       "<div>\n",
       "<style scoped>\n",
       "    .dataframe tbody tr th:only-of-type {\n",
       "        vertical-align: middle;\n",
       "    }\n",
       "\n",
       "    .dataframe tbody tr th {\n",
       "        vertical-align: top;\n",
       "    }\n",
       "\n",
       "    .dataframe thead th {\n",
       "        text-align: right;\n",
       "    }\n",
       "</style>\n",
       "<table border=\"1\" class=\"dataframe\">\n",
       "  <thead>\n",
       "    <tr style=\"text-align: right;\">\n",
       "      <th></th>\n",
       "      <th>cpt_id</th>\n",
       "      <th>freq_of_pmt</th>\n",
       "    </tr>\n",
       "  </thead>\n",
       "  <tbody>\n",
       "    <tr>\n",
       "      <th>0</th>\n",
       "      <td>100</td>\n",
       "      <td>monthly</td>\n",
       "    </tr>\n",
       "    <tr>\n",
       "      <th>1</th>\n",
       "      <td>101</td>\n",
       "      <td>quarter</td>\n",
       "    </tr>\n",
       "    <tr>\n",
       "      <th>2</th>\n",
       "      <td>102</td>\n",
       "      <td>half yearly</td>\n",
       "    </tr>\n",
       "    <tr>\n",
       "      <th>3</th>\n",
       "      <td>103</td>\n",
       "      <td>yearly</td>\n",
       "    </tr>\n",
       "  </tbody>\n",
       "</table>\n",
       "</div>"
      ],
      "text/plain": [
       "   cpt_id  freq_of_pmt\n",
       "0     100      monthly\n",
       "1     101      quarter\n",
       "2     102  half yearly\n",
       "3     103       yearly"
      ]
     },
     "execution_count": 4,
     "metadata": {},
     "output_type": "execute_result"
    }
   ],
   "source": [
    "CONTRACT_PAYMENT_TERMS"
   ]
  },
  {
   "cell_type": "code",
   "execution_count": 2,
   "metadata": {},
   "outputs": [],
   "source": [
    "contract_table=pd.DataFrame()"
   ]
  },
  {
   "cell_type": "code",
   "execution_count": 3,
   "metadata": {},
   "outputs": [],
   "source": [
    "contract_table['contract_id']=[12345,12879,12987,12346,12348]"
   ]
  },
  {
   "cell_type": "code",
   "execution_count": 4,
   "metadata": {},
   "outputs": [],
   "source": [
    "contract_table['contract_type']=['goven','indicidual','indicidual','goven','goven']"
   ]
  },
  {
   "cell_type": "code",
   "execution_count": 7,
   "metadata": {},
   "outputs": [],
   "source": [
    "contract_table['cont_s_date']=['10-jan-10','03-feb-11','15/feb/11','13-mar-09','6-apr-12']"
   ]
  },
  {
   "cell_type": "code",
   "execution_count": 31,
   "metadata": {},
   "outputs": [
    {
     "name": "stdout",
     "output_type": "stream",
     "text": [
      "   contract_id contract_type cont_s_date cont_e_date  cpt_id  cont_amt  \\\n",
      "0        12345    government  2010-01-10  2012-01-10     100    700000   \n",
      "1        12879    individual  2011-02-03  2012-02-15     101    489938   \n",
      "2        12987    individual  2011-02-15  2011-09-15     100    289938   \n",
      "3        12346    government  2009-03-13  2011-03-14     102    200000   \n",
      "4        12348    government  2012-04-06  2013-05-22    1003    200000   \n",
      "\n",
      "    ins_date   upd_date  \n",
      "0 2010-01-10        NaT  \n",
      "1 2011-02-03        NaT  \n",
      "2 2011-02-15        NaT  \n",
      "3 2009-03-10 2009-04-10  \n",
      "4 2009-05-08        NaT  \n",
      "                                 0                    1                    2  \\\n",
      "contract_id                  12345                12879                12987   \n",
      "contract_type           government           individual           individual   \n",
      "cont_s_date    2010-01-10 00:00:00  2011-02-03 00:00:00  2011-02-15 00:00:00   \n",
      "cont_e_date    2012-01-10 00:00:00  2012-02-15 00:00:00  2011-09-15 00:00:00   \n",
      "cpt_id                         100                  101                  100   \n",
      "cont_amt                    700000               489938               289938   \n",
      "ins_date       2010-01-10 00:00:00  2011-02-03 00:00:00  2011-02-15 00:00:00   \n",
      "upd_date                       NaT                  NaT                  NaT   \n",
      "\n",
      "                                 3                    4  \n",
      "contract_id                  12346                12348  \n",
      "contract_type           government           government  \n",
      "cont_s_date    2009-03-13 00:00:00  2012-04-06 00:00:00  \n",
      "cont_e_date    2011-03-14 00:00:00  2013-05-22 00:00:00  \n",
      "cpt_id                         102                 1003  \n",
      "cont_amt                    200000               200000  \n",
      "ins_date       2009-03-10 00:00:00  2009-05-08 00:00:00  \n",
      "upd_date       2009-04-10 00:00:00                  NaT  \n",
      "<bound method DataFrame.transform of    contract_id contract_type cont_s_date cont_e_date  cpt_id  cont_amt  \\\n",
      "0        12345    government  2010-01-10  2012-01-10     100    700000   \n",
      "1        12879    individual  2011-02-03  2012-02-15     101    489938   \n",
      "2        12987    individual  2011-02-15  2011-09-15     100    289938   \n",
      "3        12346    government  2009-03-13  2011-03-14     102    200000   \n",
      "4        12348    government  2012-04-06  2013-05-22    1003    200000   \n",
      "\n",
      "    ins_date   upd_date  \n",
      "0 2010-01-10        NaT  \n",
      "1 2011-02-03        NaT  \n",
      "2 2011-02-15        NaT  \n",
      "3 2009-03-10 2009-04-10  \n",
      "4 2009-05-08        NaT  >\n"
     ]
    }
   ],
   "source": [
    "print(contract_table)\n",
    "print(contract_table.T)\n",
    "print(contract_table.transform)"
   ]
  },
  {
   "cell_type": "code",
   "execution_count": 8,
   "metadata": {},
   "outputs": [],
   "source": [
    "contract_table['cont_s_date']=pd.to_datetime(contract_table['cont_s_date'])"
   ]
  },
  {
   "cell_type": "code",
   "execution_count": 27,
   "metadata": {
    "scrolled": true
   },
   "outputs": [
    {
     "name": "stdout",
     "output_type": "stream",
     "text": [
      "2010-02-10 12345 29166.666666666668\n",
      "2010-03-10 12345 29166.666666666668\n",
      "2010-04-10 12345 29166.666666666668\n",
      "2010-05-10 12345 29166.666666666668\n",
      "2010-06-10 12345 29166.666666666668\n",
      "2010-07-10 12345 29166.666666666668\n",
      "2010-08-10 12345 29166.666666666668\n",
      "2010-09-10 12345 29166.666666666668\n",
      "2010-10-10 12345 29166.666666666668\n",
      "2010-11-10 12345 29166.666666666668\n",
      "2010-12-10 12345 29166.666666666668\n",
      "2011-01-10 12345 29166.666666666668\n",
      "2011-02-10 12345 29166.666666666668\n",
      "2011-03-10 12345 29166.666666666668\n",
      "2011-04-10 12345 29166.666666666668\n",
      "2011-05-10 12345 29166.666666666668\n",
      "2011-06-10 12345 29166.666666666668\n",
      "2011-07-10 12345 29166.666666666668\n",
      "2011-08-10 12345 29166.666666666668\n",
      "2011-09-10 12345 29166.666666666668\n",
      "2011-10-10 12345 29166.666666666668\n",
      "2011-11-10 12345 29166.666666666668\n",
      "2011-12-10 12345 29166.666666666668\n",
      "2012-01-10 12345 29166.666666666668\n",
      "2011-03-15 12987 41598.80896226415\n",
      "2011-04-15 12987 41598.80896226415\n",
      "2011-05-15 12987 41598.80896226415\n",
      "2011-06-15 12987 41598.80896226415\n",
      "2011-07-15 12987 41598.80896226415\n",
      "2011-08-15 12987 41598.80896226415\n",
      "12.394520547945206\n",
      "2011-03-03 12879 39528.59637488948\n",
      "2011-04-03 12879 39528.59637488948\n",
      "2011-05-03 12879 39528.59637488948\n",
      "2011-06-03 12879 39528.59637488948\n",
      "2011-07-03 12879 39528.59637488948\n",
      "2011-08-03 12879 39528.59637488948\n",
      "2011-09-03 12879 39528.59637488948\n",
      "2011-10-03 12879 39528.59637488948\n",
      "2011-11-03 12879 39528.59637488948\n",
      "2011-12-03 12879 39528.59637488948\n",
      "2012-01-03 12879 39528.59637488948\n",
      "2012-02-03 12879 39528.59637488948\n"
     ]
    }
   ],
   "source": [
    "from datetime import datetime\n",
    "contract_table=pd.read_csv(r'C:\\Users\\ELCOT\\OneDrive\\Desktop\\jupyter notebook\\Aroha\\contract 6-6-22.csv')\n",
    "contract_table['cont_s_date']=pd.to_datetime(contract_table['cont_s_date'])\n",
    "contract_table['cont_e_date']=pd.to_datetime(contract_table['cont_e_date'])\n",
    "contract_table['ins_date']=pd.to_datetime(contract_table['ins_date'])\n",
    "contract_table['upd_date']=pd.to_datetime(contract_table['upd_date'])\n",
    "contract_table['years']=(contract_table['cont_e_date']-contract_table['cont_s_date'])\n",
    "contract_table['years']=contract_table['years'].astype('str')\n",
    "contract_table['years']=contract_table['years'].str[:-4]\n",
    "contract_table['years']=contract_table['years'].astype('int')\n",
    "contract_table['years']=contract_table['years'].astype('int')/365\n",
    "table=pd.merge(CONTRACT_PAYMENT_TERMS,contract_table,on=['cpt_id'])\n",
    "for a,b,c,d,e,f in zip(table['freq_of_pmt'],table['contract_id'],table['cont_amt'],table['years'],table['cont_s_date'],table['years']):\n",
    "    if a=='monthly':\n",
    "        z=f*12\n",
    "        n=1\n",
    "        while n<=z:\n",
    "            date_format = '%d/%m/%Y'\n",
    "            dtObj = datetime.strptime(e.strftime('%d/%m/%Y'), date_format)\n",
    "            future_date = dtObj + pd.DateOffset(months=n)\n",
    "            print(datetime.date(future_date),b,(c/(f*12)))\n",
    "            n+=1\n",
    "    elif a=='quarter':\n",
    "        z=f*12\n",
    "        print(z)\n",
    "        n=1\n",
    "        while n<=z:\n",
    "            date_format = '%d/%m/%Y'\n",
    "            dtObj = datetime.strptime(e.strftime('%d/%m/%Y'), date_format)\n",
    "            future_date = dtObj + pd.DateOffset(months=n)\n",
    "            print(datetime.date(future_date),b,(c/(f*12)))\n",
    "            n+=1\n",
    "            \n",
    "        "
   ]
  },
  {
   "cell_type": "code",
   "execution_count": 33,
   "metadata": {},
   "outputs": [
    {
     "data": {
      "text/plain": [
       "489343.1564986737"
      ]
     },
     "execution_count": 33,
     "metadata": {},
     "output_type": "execute_result"
    }
   ],
   "source": [
    "39528.59637488948*12+15000"
   ]
  },
  {
   "cell_type": "code",
   "execution_count": 22,
   "metadata": {},
   "outputs": [
    {
     "data": {
      "text/plain": [
       "553400.3492484527"
      ]
     },
     "execution_count": 22,
     "metadata": {},
     "output_type": "execute_result"
    }
   ],
   "source": [
    "79057.19274977896*7"
   ]
  },
  {
   "cell_type": "code",
   "execution_count": 30,
   "metadata": {},
   "outputs": [
    {
     "data": {
      "text/plain": [
       "40828.166666666664"
      ]
     },
     "execution_count": 30,
     "metadata": {},
     "output_type": "execute_result"
    }
   ],
   "source": [
    "489938/12"
   ]
  },
  {
   "cell_type": "code",
   "execution_count": 6,
   "metadata": {},
   "outputs": [
    {
     "name": "stdout",
     "output_type": "stream",
     "text": [
      "   cpt_id  freq_of_pmt\n",
      "0     100      monthly\n",
      "1     101      quarter\n",
      "2     102  half yearly\n",
      "3     103       yearly\n",
      "   contract_id contract_type cont_s_date cont_e_date  cpt_id  cont_amt  \\\n",
      "0        12345    government  2010-01-10  2012-01-10     100    700000   \n",
      "1        12879    individual  2011-02-03  2012-02-15     101    489938   \n",
      "2        12987    individual  2011-02-15  2011-09-15     100    289938   \n",
      "3        12346    government  2009-03-13  2011-03-14     102    200000   \n",
      "4        12348    government  2012-04-06  2013-05-22     103    200000   \n",
      "\n",
      "    ins_date   upd_date     years  \n",
      "0 2010-01-10        NaT  2.000000  \n",
      "1 2011-02-03        NaT  1.032877  \n",
      "2 2011-02-15        NaT  0.580822  \n",
      "3 2009-03-10 2009-04-10  2.002740  \n",
      "4 2009-05-08        NaT  1.126027  \n"
     ]
    },
    {
     "data": {
      "text/html": [
       "<div>\n",
       "<style scoped>\n",
       "    .dataframe tbody tr th:only-of-type {\n",
       "        vertical-align: middle;\n",
       "    }\n",
       "\n",
       "    .dataframe tbody tr th {\n",
       "        vertical-align: top;\n",
       "    }\n",
       "\n",
       "    .dataframe thead th {\n",
       "        text-align: right;\n",
       "    }\n",
       "</style>\n",
       "<table border=\"1\" class=\"dataframe\">\n",
       "  <thead>\n",
       "    <tr style=\"text-align: right;\">\n",
       "      <th></th>\n",
       "      <th>cpt_id</th>\n",
       "      <th>freq_of_pmt</th>\n",
       "      <th>contract_id</th>\n",
       "      <th>contract_type</th>\n",
       "      <th>cont_s_date</th>\n",
       "      <th>cont_e_date</th>\n",
       "      <th>cont_amt</th>\n",
       "      <th>ins_date</th>\n",
       "      <th>upd_date</th>\n",
       "      <th>years</th>\n",
       "    </tr>\n",
       "  </thead>\n",
       "  <tbody>\n",
       "    <tr>\n",
       "      <th>0</th>\n",
       "      <td>100</td>\n",
       "      <td>monthly</td>\n",
       "      <td>12345</td>\n",
       "      <td>government</td>\n",
       "      <td>2010-01-10</td>\n",
       "      <td>2012-01-10</td>\n",
       "      <td>700000</td>\n",
       "      <td>2010-01-10</td>\n",
       "      <td>NaT</td>\n",
       "      <td>2.000000</td>\n",
       "    </tr>\n",
       "    <tr>\n",
       "      <th>1</th>\n",
       "      <td>100</td>\n",
       "      <td>monthly</td>\n",
       "      <td>12987</td>\n",
       "      <td>individual</td>\n",
       "      <td>2011-02-15</td>\n",
       "      <td>2011-09-15</td>\n",
       "      <td>289938</td>\n",
       "      <td>2011-02-15</td>\n",
       "      <td>NaT</td>\n",
       "      <td>0.580822</td>\n",
       "    </tr>\n",
       "    <tr>\n",
       "      <th>2</th>\n",
       "      <td>101</td>\n",
       "      <td>quarter</td>\n",
       "      <td>12879</td>\n",
       "      <td>individual</td>\n",
       "      <td>2011-02-03</td>\n",
       "      <td>2012-02-15</td>\n",
       "      <td>489938</td>\n",
       "      <td>2011-02-03</td>\n",
       "      <td>NaT</td>\n",
       "      <td>1.032877</td>\n",
       "    </tr>\n",
       "    <tr>\n",
       "      <th>3</th>\n",
       "      <td>102</td>\n",
       "      <td>half yearly</td>\n",
       "      <td>12346</td>\n",
       "      <td>government</td>\n",
       "      <td>2009-03-13</td>\n",
       "      <td>2011-03-14</td>\n",
       "      <td>200000</td>\n",
       "      <td>2009-03-10</td>\n",
       "      <td>2009-04-10</td>\n",
       "      <td>2.002740</td>\n",
       "    </tr>\n",
       "    <tr>\n",
       "      <th>4</th>\n",
       "      <td>103</td>\n",
       "      <td>yearly</td>\n",
       "      <td>12348</td>\n",
       "      <td>government</td>\n",
       "      <td>2012-04-06</td>\n",
       "      <td>2013-05-22</td>\n",
       "      <td>200000</td>\n",
       "      <td>2009-05-08</td>\n",
       "      <td>NaT</td>\n",
       "      <td>1.126027</td>\n",
       "    </tr>\n",
       "  </tbody>\n",
       "</table>\n",
       "</div>"
      ],
      "text/plain": [
       "   cpt_id  freq_of_pmt  contract_id contract_type cont_s_date cont_e_date  \\\n",
       "0     100      monthly        12345    government  2010-01-10  2012-01-10   \n",
       "1     100      monthly        12987    individual  2011-02-15  2011-09-15   \n",
       "2     101      quarter        12879    individual  2011-02-03  2012-02-15   \n",
       "3     102  half yearly        12346    government  2009-03-13  2011-03-14   \n",
       "4     103       yearly        12348    government  2012-04-06  2013-05-22   \n",
       "\n",
       "   cont_amt   ins_date   upd_date     years  \n",
       "0    700000 2010-01-10        NaT  2.000000  \n",
       "1    289938 2011-02-15        NaT  0.580822  \n",
       "2    489938 2011-02-03        NaT  1.032877  \n",
       "3    200000 2009-03-10 2009-04-10  2.002740  \n",
       "4    200000 2009-05-08        NaT  1.126027  "
      ]
     },
     "execution_count": 6,
     "metadata": {},
     "output_type": "execute_result"
    }
   ],
   "source": [
    "print(CONTRACT_PAYMENT_TERMS)\n",
    "print(contract_table)\n",
    "table=pd.merge(CONTRACT_PAYMENT_TERMS,contract_table,on=['cpt_id'])\n",
    "table"
   ]
  },
  {
   "cell_type": "code",
   "execution_count": 7,
   "metadata": {},
   "outputs": [
    {
     "name": "stdout",
     "output_type": "stream",
     "text": [
      "2010-02-10 12345 29166.666666666668\n",
      "2011-03-15 12987 41598.80896226415\n"
     ]
    }
   ],
   "source": [
    "for a,b,c,d,e,f in zip(table['freq_of_pmt'],table['contract_id'],table['cont_amt'],table['years'],table['cont_s_date'],table['years']):\n",
    "    if a=='monthly':\n",
    "        date_format = '%d/%m/%Y'\n",
    "        dtObj = datetime.strptime(e.strftime('%d/%m/%Y'), date_format)\n",
    "        n = 1\n",
    "        future_date = dtObj + pd.DateOffset(months=n)\n",
    "        print(datetime.date(future_date),b,(c/(f*12)))"
   ]
  },
  {
   "cell_type": "code",
   "execution_count": 8,
   "metadata": {},
   "outputs": [
    {
     "name": "stdout",
     "output_type": "stream",
     "text": [
      "2010-02-10 12345 29166.666666666668\n",
      "2010-03-10 12345 29166.666666666668\n",
      "2010-04-10 12345 29166.666666666668\n",
      "2010-05-10 12345 29166.666666666668\n",
      "2010-06-10 12345 29166.666666666668\n",
      "2010-07-10 12345 29166.666666666668\n",
      "2010-08-10 12345 29166.666666666668\n",
      "2010-09-10 12345 29166.666666666668\n",
      "2010-10-10 12345 29166.666666666668\n",
      "2010-11-10 12345 29166.666666666668\n",
      "2010-12-10 12345 29166.666666666668\n",
      "2011-01-10 12345 29166.666666666668\n",
      "2011-02-10 12345 29166.666666666668\n",
      "2011-03-10 12345 29166.666666666668\n",
      "2011-04-10 12345 29166.666666666668\n",
      "2011-05-10 12345 29166.666666666668\n",
      "2011-06-10 12345 29166.666666666668\n",
      "2011-07-10 12345 29166.666666666668\n",
      "2011-08-10 12345 29166.666666666668\n",
      "2011-09-10 12345 29166.666666666668\n",
      "2011-10-10 12345 29166.666666666668\n",
      "2011-11-10 12345 29166.666666666668\n",
      "2011-12-10 12345 29166.666666666668\n",
      "2012-01-10 12345 29166.666666666668\n",
      "2011-03-15 12987 41598.80896226415\n",
      "2011-04-15 12987 41598.80896226415\n",
      "2011-05-15 12987 41598.80896226415\n",
      "2011-06-15 12987 41598.80896226415\n",
      "2011-07-15 12987 41598.80896226415\n",
      "2011-08-15 12987 41598.80896226415\n"
     ]
    }
   ],
   "source": [
    "for a,b,c,d,e,f in zip(table['freq_of_pmt'],table['contract_id'],table['cont_amt'],table['years'],table['cont_s_date'],table['years']):\n",
    "    if a=='monthly':\n",
    "        z=f*12\n",
    "        n=1\n",
    "        while n<=z:\n",
    "            date_format = '%d/%m/%Y'\n",
    "            dtObj = datetime.strptime(e.strftime('%d/%m/%Y'), date_format)\n",
    "            future_date = dtObj + pd.DateOffset(months=n)\n",
    "            print(datetime.date(future_date),b,(c/(f*12)))\n",
    "            n+=1"
   ]
  },
  {
   "cell_type": "code",
   "execution_count": 13,
   "metadata": {},
   "outputs": [
    {
     "name": "stdout",
     "output_type": "stream",
     "text": [
      "2010-02-10\n"
     ]
    }
   ],
   "source": [
    "\n",
    "date_format = '%d/%m/%Y'\n",
    "dtObj = datetime.strptime(table['cont_s_date'][0].strftime('%d/%m/%Y'), date_format)\n",
    "n = 1\n",
    "future_date = dtObj + pd.DateOffset(months=n)\n",
    "print(datetime.date(future_date))"
   ]
  },
  {
   "cell_type": "code",
   "execution_count": 132,
   "metadata": {},
   "outputs": [
    {
     "data": {
      "text/plain": [
       "'10/01/2010'"
      ]
     },
     "execution_count": 132,
     "metadata": {},
     "output_type": "execute_result"
    }
   ],
   "source": [
    "table['cont_s_date'][0].strftime('%d/%m/%Y')"
   ]
  },
  {
   "cell_type": "code",
   "execution_count": null,
   "metadata": {},
   "outputs": [],
   "source": [
    "date_format = '%d/%m/%Y'\n",
    "dtObj = datetime.strptime(given_date, date_format)\n",
    "# Add 20 months to a given datetime object\n",
    "n = 20\n",
    "future_date = dtObj + relativedelta(months=n)\n",
    "print('Date after 20 months: ', future_date)\n",
    "print('Date after 20 months: ', future_date.date())\n",
    "# Convert datetime object to string in required format\n",
    "future_date_str = future_date.strftime(date_format)\n",
    "print('Date after 20 months (as string): ', future_date_str)"
   ]
  },
  {
   "cell_type": "code",
   "execution_count": null,
   "metadata": {},
   "outputs": [],
   "source": []
  },
  {
   "cell_type": "code",
   "execution_count": null,
   "metadata": {},
   "outputs": [],
   "source": []
  },
  {
   "cell_type": "code",
   "execution_count": null,
   "metadata": {},
   "outputs": [],
   "source": []
  }
 ],
 "metadata": {
  "kernelspec": {
   "display_name": "Python 3",
   "language": "python",
   "name": "python3"
  },
  "language_info": {
   "codemirror_mode": {
    "name": "ipython",
    "version": 3
   },
   "file_extension": ".py",
   "mimetype": "text/x-python",
   "name": "python",
   "nbconvert_exporter": "python",
   "pygments_lexer": "ipython3",
   "version": "3.8.5"
  }
 },
 "nbformat": 4,
 "nbformat_minor": 4
}
