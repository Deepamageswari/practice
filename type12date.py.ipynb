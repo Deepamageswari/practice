{
 "cells": [
  {
   "cell_type": "code",
   "execution_count": 1,
   "metadata": {},
   "outputs": [],
   "source": [
    "import datetime"
   ]
  },
  {
   "cell_type": "code",
   "execution_count": 119,
   "metadata": {},
   "outputs": [
    {
     "data": {
      "text/plain": [
       "datetime.date(2022, 6, 6)"
      ]
     },
     "execution_count": 119,
     "metadata": {},
     "output_type": "execute_result"
    }
   ],
   "source": [
    "datetime.time(datetime.now())\n",
    "datetime.date(datetime.now())"
   ]
  },
  {
   "cell_type": "code",
   "execution_count": 114,
   "metadata": {},
   "outputs": [],
   "source": [
    "from datetime import date"
   ]
  },
  {
   "cell_type": "code",
   "execution_count": 111,
   "metadata": {},
   "outputs": [
    {
     "data": {
      "text/plain": [
       "6"
      ]
     },
     "execution_count": 111,
     "metadata": {},
     "output_type": "execute_result"
    }
   ],
   "source": [
    "date.today().day"
   ]
  },
  {
   "cell_type": "code",
   "execution_count": 147,
   "metadata": {},
   "outputs": [
    {
     "data": {
      "text/plain": [
       "datetime.datetime(2022, 6, 6, 10, 58, 33, 863439)"
      ]
     },
     "execution_count": 147,
     "metadata": {},
     "output_type": "execute_result"
    }
   ],
   "source": [
    "from datetime import datetime\n",
    "datetime.now()"
   ]
  },
  {
   "cell_type": "code",
   "execution_count": 4,
   "metadata": {},
   "outputs": [
    {
     "data": {
      "text/plain": [
       "datetime.datetime(2022, 6, 5, 0, 0)"
      ]
     },
     "execution_count": 4,
     "metadata": {},
     "output_type": "execute_result"
    }
   ],
   "source": [
    "d='05/6/22'\n",
    "dd=datetime. strptime(d,'%d/%m/%y')\n",
    "dd"
   ]
  },
  {
   "cell_type": "code",
   "execution_count": 5,
   "metadata": {},
   "outputs": [],
   "source": [
    "from datetime import datetime\n",
    "date_time_str = '18/09/19 01:55:19'\n",
    "date_time_obj = datetime. strptime(d, '%d/%m/%y')#%H:%M:%S')"
   ]
  },
  {
   "cell_type": "code",
   "execution_count": 129,
   "metadata": {},
   "outputs": [
    {
     "name": "stdout",
     "output_type": "stream",
     "text": [
      "Monday\n",
      "1\n",
      "Mon\n",
      "Mon\n",
      "Mon\n",
      "Mon\n",
      "Mon\n",
      "Mon\n",
      "Mon\n",
      "Mon\n",
      "Mon\n"
     ]
    }
   ],
   "source": [
    "a=datetime.now()\n",
    "a.strftime('%y')\n",
    "a.strftime('%W')\n",
    "a.strftime('%a')\n",
    "print(a.strftime('%A'))\n",
    "print(a.strftime('%w'))\n",
    "print(a.strftime('%a'))\n",
    "print(a.strftime('%a'))\n",
    "print(a.strftime('%a'))\n",
    "print(a.strftime('%a'))\n",
    "print(a.strftime('%a'))\n",
    "print(a.strftime('%a'))\n",
    "print(a.strftime('%a'))\n",
    "print(a.strftime('%a'))\n",
    "print(a.strftime('%a'))"
   ]
  },
  {
   "cell_type": "code",
   "execution_count": null,
   "metadata": {},
   "outputs": [],
   "source": [
    "%a\tWeekday, short version\tWed\t\n",
    "%A\tWeekday, full version\tWednesday\t\n",
    "%w\tWeekday as a number 0-6, 0 is Sunday\t3\t\n",
    "%d\tDay of month 01-31\t31\t\n",
    "%b\tMonth name, short version\tDec\t\n",
    "%B\tMonth name, full version\tDecember\t\n",
    "%m\tMonth as a number 01-12\t12\t\n",
    "%y\tYear, short version, without century\t18\t\n",
    "%Y\tYear, full version\t2018\t\n",
    "%H\tHour 00-23\t17\t\n",
    "%I\tHour 00-12\t05\t\n",
    "%p\tAM/PM\tPM\t\n",
    "%M\tMinute 00-59\t41\t\n",
    "%S\tSecond 00-59\t08\t\n",
    "%f\tMicrosecond 000000-999999\t548513\t\n",
    "%z\tUTC offset\t+0100\t\n",
    "%Z\tTimezone\tCST\t\n",
    "%j\tDay number of year 001-366\t365\t\n",
    "%U\tWeek number of year, Sunday as the first day of week, 00-53\t52\t\n",
    "%W\tWeek number of year, Monday as the first day of week, 00-53\t52\t\n",
    "%c\tLocal version of date and time\tMon Dec 31 17:41:00 2018\t\n",
    "%C\tCentury\t20\t\n",
    "%x\tLocal version of date\t12/31/18\t\n",
    "%X\tLocal version of time\t17:41:00\t\n",
    "%%\tA % character\t%\t\n",
    "%G\tISO 8601 year\t2018\t\n",
    "%u\tISO 8601 weekday (1-7)\t1\t\n",
    "%V\tISO 8601 weeknumber (01-53)\t01\t\n"
   ]
  },
  {
   "cell_type": "code",
   "execution_count": 2,
   "metadata": {},
   "outputs": [
    {
     "name": "stdout",
     "output_type": "stream",
     "text": [
      "enter 1 for mm/dd/yy 2 for %d-%m-%y1\n",
      "enter date2\n",
      "not support to the date format 1\n"
     ]
    }
   ],
   "source": [
    "\n",
    "class dates():\n",
    "    def inp(self):\n",
    "        self.type_check=int(input('enter 1 for mm/dd/yy 2 for %d-%m-%y'))\n",
    "        self.date_input=input('enter date')\n",
    "        self.type1='%m-%d-%y'\n",
    "        self.type2='%d-%m-%y'\n",
    "    def t1(self):\n",
    "        from datetime import datetime\n",
    "        if self.type_check==1:\n",
    "            try:\n",
    "                date1=datetime.strptime(self.date_input,self.type1)\n",
    "            except:\n",
    "                error='not support to the date format 1'\n",
    "        elif self.type_check==2:\n",
    "            try:\n",
    "                date1=datetime.strptime(self.date_input,self.type2)\n",
    "            except:\n",
    "                error='not support to the date format 2'\n",
    "        try:\n",
    "            return date1\n",
    "        except:\n",
    "            print(error)\n",
    "\n",
    "obj=dates()\n",
    "obj.inp()\n",
    "obj.t1()\n"
   ]
  },
  {
   "cell_type": "code",
   "execution_count": null,
   "metadata": {},
   "outputs": [],
   "source": [
    "\n"
   ]
  },
  {
   "cell_type": "code",
   "execution_count": null,
   "metadata": {},
   "outputs": [],
   "source": []
  },
  {
   "cell_type": "code",
   "execution_count": null,
   "metadata": {},
   "outputs": [],
   "source": []
  },
  {
   "cell_type": "code",
   "execution_count": null,
   "metadata": {},
   "outputs": [],
   "source": []
  },
  {
   "cell_type": "code",
   "execution_count": null,
   "metadata": {},
   "outputs": [],
   "source": []
  },
  {
   "cell_type": "code",
   "execution_count": null,
   "metadata": {},
   "outputs": [],
   "source": []
  }
 ],
 "metadata": {
  "kernelspec": {
   "display_name": "Python 3",
   "language": "python",
   "name": "python3"
  },
  "language_info": {
   "codemirror_mode": {
    "name": "ipython",
    "version": 3
   },
   "file_extension": ".py",
   "mimetype": "text/x-python",
   "name": "python",
   "nbconvert_exporter": "python",
   "pygments_lexer": "ipython3",
   "version": "3.8.5"
  }
 },
 "nbformat": 4,
 "nbformat_minor": 4
}
