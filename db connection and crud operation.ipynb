{
 "cells": [
  {
   "cell_type": "code",
   "execution_count": 1,
   "metadata": {},
   "outputs": [],
   "source": [
    "import pymysql\n",
    "import sqlalchemy"
   ]
  },
  {
   "cell_type": "code",
   "execution_count": 4,
   "metadata": {},
   "outputs": [],
   "source": [
    "import pandas as pd"
   ]
  },
  {
   "cell_type": "code",
   "execution_count": 2,
   "metadata": {},
   "outputs": [],
   "source": [
    "conn=pymysql.connect(host='localhost',port=int(3306),user='root',passwd='deeraj',db='suppliers') #connecting to mysql"
   ]
  },
  {
   "cell_type": "code",
   "execution_count": 6,
   "metadata": {
    "collapsed": true
   },
   "outputs": [
    {
     "name": "stdout",
     "output_type": "stream",
     "text": [
      "    SUPPLIERID  SUPPLIER_NUMBER                                SUPPLIER_NAME  \\\n",
      "0       175193            32407                                       ITELLO   \n",
      "1         6889            18725                                  BLUELON APS   \n",
      "2       490227            35094                ZZZ - Testing Solutions Group   \n",
      "3         1082              101                          ESP GLOBAL SERVICES   \n",
      "4         1082              101                          ESP GLOBAL SERVICES   \n",
      "5       210198            33371                                    DORMAKABA   \n",
      "6       210198            33371                                    DORMAKABA   \n",
      "7       210198            33371                                    DORMAKABA   \n",
      "8       210198            33371                                    DORMAKABA   \n",
      "9       210198            33371                                    DORMAKABA   \n",
      "10        1812              111                             FORMGRAPHICS LTD   \n",
      "11        7300            19336                                    AVINOR AS   \n",
      "12        5101            15942  ACCLIVIS TECHNOLOGIES AND SOLUTIONS PTE LTD   \n",
      "13      205233            33315                          XXX - SUPERDIST LTD   \n",
      "14      874224            35945                  ZZZ - FRANKLINCOVEY BELGIUM   \n",
      "15      210198            33371                                    DORMAKABA   \n",
      "16      210198            33371                                    DORMAKABA   \n",
      "17     3627249            41656                            ELTEL NETWORKS AS   \n",
      "18        3756            13609                               ALD AUTOMOTIVE   \n",
      "19        1082              101                          ESP GLOBAL SERVICES   \n",
      "20       12682               76                                        DESKO   \n",
      "21       12682               76                                        DESKO   \n",
      "22      210198            33371                                    DORMAKABA   \n",
      "23      210198            33371                                    DORMAKABA   \n",
      "24      210198            33371                                    DORMAKABA   \n",
      "25      210198            33371                                    DORMAKABA   \n",
      "26        6889            18725                                  BLUELON APS   \n",
      "27       25063            30043                   ZZZ - SEA-TAC VENTURE, LLC   \n",
      "28       12377             6928            INTERMEC TECHNOLOGIES CORPORATION   \n",
      "29      174193            32406                        BRONNOYSUNDREGISTRENE   \n",
      "30        3756            13609                               ALD AUTOMOTIVE   \n",
      "31        6889            18725                                  BLUELON APS   \n",
      "32      719232            35655                                   FINN.NO AS   \n",
      "33      210198            33371                                    DORMAKABA   \n",
      "34      210198            33371                                    DORMAKABA   \n",
      "35     3627249            41656                            ELTEL NETWORKS AS   \n",
      "36       12377             6928            INTERMEC TECHNOLOGIES CORPORATION   \n",
      "37        7305            19341            OLTD OSLO LUFTHAVN TELE & DATA AS   \n",
      "38      175193            32407                                       ITELLO   \n",
      "39      668223            35545                 ZZZ - BLUETEL NETWORKS PTE L   \n",
      "40      210198            33371                                    DORMAKABA   \n",
      "41      210198            33371                                    DORMAKABA   \n",
      "42        7305            19341            OLTD OSLO LUFTHAVN TELE & DATA AS   \n",
      "43        5087            15908                 MINDCOR CONSULTING (PTY) LTD   \n",
      "44       12378             6929                  OMNIDATA SERVICES GROUP LLC   \n",
      "45       14023               97                         ELECDAN DISTRIBUTION   \n",
      "46      210198            33371                                    DORMAKABA   \n",
      "47      210198            33371                                    DORMAKABA   \n",
      "48       10869              317                                COMPUTACENTER   \n",
      "49      548214            35201                                  ZZZ - IB SA   \n",
      "50      668223            35545                 ZZZ - BLUETEL NETWORKS PTE L   \n",
      "\n",
      "   TAXREGISTRATIONNUMBER               OU_NAME  \\\n",
      "0            992 009 241  3104_NO_BV NORWAY_OU   \n",
      "1                         3104_NO_BV NORWAY_OU   \n",
      "2                         3104_NO_BV NORWAY_OU   \n",
      "3            GB641937328  3104_NO_BV NORWAY_OU   \n",
      "4            GB641937328  3104_NO_BV NORWAY_OU   \n",
      "5                         3104_NO_BV NORWAY_OU   \n",
      "6                         3104_NO_BV NORWAY_OU   \n",
      "7                         3104_NO_BV NORWAY_OU   \n",
      "8                         3104_NO_BV NORWAY_OU   \n",
      "9                         3104_NO_BV NORWAY_OU   \n",
      "10                        3104_NO_BV NORWAY_OU   \n",
      "11             985198292  3104_NO_BV NORWAY_OU   \n",
      "12            200910436K  3104_NO_BV NORWAY_OU   \n",
      "13           VAT20176146  3104_NO_BV NORWAY_OU   \n",
      "14                        3104_NO_BV NORWAY_OU   \n",
      "15                        3104_NO_BV NORWAY_OU   \n",
      "16                        3104_NO_BV NORWAY_OU   \n",
      "17            FI15482348  3104_NO_BV NORWAY_OU   \n",
      "18                        3104_NO_BV NORWAY_OU   \n",
      "19           GB641937328  3104_NO_BV NORWAY_OU   \n",
      "20         208/124/30085  3104_NO_BV NORWAY_OU   \n",
      "21         208/124/30085  3104_NO_BV NORWAY_OU   \n",
      "22                        3104_NO_BV NORWAY_OU   \n",
      "23                        3104_NO_BV NORWAY_OU   \n",
      "24                        3104_NO_BV NORWAY_OU   \n",
      "25                        3104_NO_BV NORWAY_OU   \n",
      "26                        3104_NO_BV NORWAY_OU   \n",
      "27                        3104_NO_BV NORWAY_OU   \n",
      "28                        3104_NO_BV NORWAY_OU   \n",
      "29                        3104_NO_BV NORWAY_OU   \n",
      "30                        3104_NO_BV NORWAY_OU   \n",
      "31                        3104_NO_BV NORWAY_OU   \n",
      "32             981159772  3104_NO_BV NORWAY_OU   \n",
      "33                        3104_NO_BV NORWAY_OU   \n",
      "34                        3104_NO_BV NORWAY_OU   \n",
      "35            FI15482348  3104_NO_BV NORWAY_OU   \n",
      "36                        3104_NO_BV NORWAY_OU   \n",
      "37             978642292  3104_NO_BV NORWAY_OU   \n",
      "38           992 009 241  3104_NO_BV NORWAY_OU   \n",
      "39           200310391RX  3104_NO_BV NORWAY_OU   \n",
      "40                        3104_NO_BV NORWAY_OU   \n",
      "41                        3104_NO_BV NORWAY_OU   \n",
      "42             978642292  3104_NO_BV NORWAY_OU   \n",
      "43                        3104_NO_BV NORWAY_OU   \n",
      "44            27-3562929  3104_NO_BV NORWAY_OU   \n",
      "45                        3104_NO_BV NORWAY_OU   \n",
      "46                        3104_NO_BV NORWAY_OU   \n",
      "47                        3104_NO_BV NORWAY_OU   \n",
      "48                        3104_NO_BV NORWAY_OU   \n",
      "49                        3104_NO_BV NORWAY_OU   \n",
      "50           200310391RX  3104_NO_BV NORWAY_OU   \n",
      "\n",
      "                                      ADDRESS_LINE1  \\\n",
      "0                                         ITELLO AS   \n",
      "1                                NATTERGALEVEJ 6. 1   \n",
      "2                                14-16 Dowgate Hill   \n",
      "3                                       5 ACRE ROAD   \n",
      "4                                       5 ACRE ROAD   \n",
      "5                        DORMAKABA DEUTSCHLAND GMBH   \n",
      "6                        DORMAKABA DEUTSCHLAND GMBH   \n",
      "7                        DORMAKABA DEUTSCHLAND GMBH   \n",
      "8                        DORMAKABA DEUTSCHLAND GMBH   \n",
      "9                        DORMAKABA DEUTSCHLAND GMBH   \n",
      "10                                  LONGFERRY HOUSE   \n",
      "11                                     POSTBOKS 150   \n",
      "12                        29 TAI SENG AVENUE #05-01   \n",
      "13                                    ANSE COURTOIS   \n",
      "14                           SCHALIËNHOEVEDREEF 20T   \n",
      "15                       DORMAKABA DEUTSCHLAND GMBH   \n",
      "16                       DORMAKABA DEUTSCHLAND GMBH   \n",
      "17                                ELTEL NETWORKS AS   \n",
      "18                                  FORNEBUVEIEN 37   \n",
      "19                                      5 ACRE ROAD   \n",
      "20                                       DESKO GMBH   \n",
      "21                                       DESKO GMBH   \n",
      "22                       DORMAKABA DEUTSCHLAND GMBH   \n",
      "23                       DORMAKABA DEUTSCHLAND GMBH   \n",
      "24                       DORMAKABA DEUTSCHLAND GMBH   \n",
      "25                       DORMAKABA DEUTSCHLAND GMBH   \n",
      "26                               NATTERGALEVEJ 6. 1   \n",
      "27                        18000 INTERNATIONAL BLVD.   \n",
      "28  DO NOT USE >>> USE supplier nbr 10920 HONEYWELL   \n",
      "29                               NNOYSUNDREGISTRENE   \n",
      "30                                  FORNEBUVEIEN 37   \n",
      "31                               NATTERGALEVEJ 6. 1   \n",
      "32                                    POSTBOKS 1511   \n",
      "33                       DORMAKABA DEUTSCHLAND GMBH   \n",
      "34                       DORMAKABA DEUTSCHLAND GMBH   \n",
      "35                                ELTEL NETWORKS AS   \n",
      "36  DO NOT USE >>> USE supplier nbr 10920 HONEYWELL   \n",
      "37                                       POSTBOKS 3   \n",
      "38                                        ITELLO AS   \n",
      "39                        35 TAI SENG STREET #01-01   \n",
      "40                       DORMAKABA DEUTSCHLAND GMBH   \n",
      "41                       DORMAKABA DEUTSCHLAND GMBH   \n",
      "42                                       POSTBOKS 3   \n",
      "43                                       MINDCENTRE   \n",
      "44                      OMNIDATA SERVICES GROUP LLC   \n",
      "45                 CE401 PARC VALAD - ZA DES GODETS   \n",
      "46                       DORMAKABA DEUTSCHLAND GMBH   \n",
      "47                       DORMAKABA DEUTSCHLAND GMBH   \n",
      "48                                  HATFIELD AVENUE   \n",
      "49                                               HQ   \n",
      "50                        35 TAI SENG STREET #01-01   \n",
      "\n",
      "                   ADDRESS_LINE2             ADDRESS_LINE3 ADDRESS_LINE4  \\\n",
      "0                EKHOLTVEIEN 114                                           \n",
      "1                                                                          \n",
      "2                                                                          \n",
      "3                                                                          \n",
      "4                                                                          \n",
      "5        NIKOLAUS OTTO STRASSE 1                                           \n",
      "6        NIKOLAUS OTTO STRASSE 1                                           \n",
      "7        NIKOLAUS OTTO STRASSE 1                                           \n",
      "8        NIKOLAUS OTTO STRASSE 1                                           \n",
      "9        NIKOLAUS OTTO STRASSE 1                                           \n",
      "10                82 HIGH STREET                                           \n",
      "11                                                                         \n",
      "12    NATURAL COOL LIFESTYLE HUB                                           \n",
      "13                                                                         \n",
      "14                                                                         \n",
      "15       NIKOLAUS OTTO STRASSE 1                                           \n",
      "16       NIKOLAUS OTTO STRASSE 1                                           \n",
      "17                PB 434 ALNABRU                                           \n",
      "18                                                                         \n",
      "19                                                                         \n",
      "20          GOTTLIEB KEIM STR 56                                           \n",
      "21          GOTTLIEB KEIM STR 56                                           \n",
      "22       NIKOLAUS OTTO STRASSE 1                                           \n",
      "23       NIKOLAUS OTTO STRASSE 1                                           \n",
      "24       NIKOLAUS OTTO STRASSE 1                                           \n",
      "25       NIKOLAUS OTTO STRASSE 1                                           \n",
      "26                                                                         \n",
      "27                                                                         \n",
      "28        16201 25TH AVENUE WEST                                           \n",
      "29                    PO BOX 900                                           \n",
      "30                                                                         \n",
      "31                                                                         \n",
      "32                                                                         \n",
      "33       NIKOLAUS OTTO STRASSE 1                                           \n",
      "34       NIKOLAUS OTTO STRASSE 1                                           \n",
      "35                PB 434 ALNABRU                                           \n",
      "36        16201 25TH AVENUE WEST                                           \n",
      "37                                                                         \n",
      "38               EKHOLTVEIEN 114                                           \n",
      "39  TATA COMMUNICATIONS EXCHANGE        35 TAI SENG STREET                 \n",
      "40       NIKOLAUS OTTO STRASSE 1                                           \n",
      "41       NIKOLAUS OTTO STRASSE 1                                           \n",
      "42                                                                         \n",
      "43                1 ETTRICK ROAD                                           \n",
      "44              10682 JONES ROAD                 SUITE 200                 \n",
      "45  2 RUE DU BUISSON AUX FRAISES  2 IMPASSE DE LA NOISETTE                 \n",
      "46       NIKOLAUS OTTO STRASSE 1                                           \n",
      "47       NIKOLAUS OTTO STRASSE 1                                           \n",
      "48        HATFIELD BUSINESS PARK                                           \n",
      "49        1 PLACE DE LA PYRAMIDE              LA DEFENSE 9                 \n",
      "50  TATA COMMUNICATIONS EXCHANGE        35 TAI SENG STREET                 \n",
      "\n",
      "                    CITY       ZIP STATE COUNTRY    ADDRESS_STYLE       PHONE  \\\n",
      "0                   MOSS    N-1526            NO  POSTAL_ADDR_DEF    90047500   \n",
      "1             COPENHAGEN   DK 2400            DK  POSTAL_ADDR_DEF    33254012   \n",
      "2                 London   EC4R2SU            GB  POSTAL_ADDR_DEF  2074691500   \n",
      "3                READING     RG2 0            GB  POSTAL_ADDR_DEF  1189169300   \n",
      "4                READING     RG2 0            GB  POSTAL_ADDR_DEF  1189169300   \n",
      "5                   BUHL    778 15            DE  POSTAL_ADDR_DEF    72232860   \n",
      "6                   BUHL    778 15            DE  POSTAL_ADDR_DEF    72232860   \n",
      "7                   BUHL    778 15            DE  POSTAL_ADDR_DEF    72232860   \n",
      "8                   BUHL    778 15            DE  POSTAL_ADDR_DEF    72232860   \n",
      "9                   BUHL    778 15            DE  POSTAL_ADDR_DEF    72232860   \n",
      "10             GRAVESEND  DA11 0BH            GB  POSTAL_ADDR_DEF  1322662123   \n",
      "11            GARDERMOEN      2061            NO  POSTAL_ADDR_DEF    67035520   \n",
      "12             SINGAPORE    534119            SG  POSTAL_ADDR_DEF    67896868   \n",
      "13               PAILLES     00000            MU                    230286900   \n",
      "14              MECHELEN      2800            BE                     27150219   \n",
      "15                  BUHL    778 15            DE  POSTAL_ADDR_DEF    72232860   \n",
      "16                  BUHL    778 15            DE  POSTAL_ADDR_DEF    72232860   \n",
      "17                  OSLO      0614            NO  POSTAL_ADDR_DEF    91632075   \n",
      "18               LYSAKER      1366            NO  POSTAL_ADDR_DEF    85449562   \n",
      "19               READING     RG2 0            GB  POSTAL_ADDR_DEF  1189169300   \n",
      "20              BAYREUTH     95448            DE  POSTAL_ADDR_DEF   921792790   \n",
      "21              BAYREUTH     95448            DE  POSTAL_ADDR_DEF   921792790   \n",
      "22                  BUHL    778 15            DE  POSTAL_ADDR_DEF    72232860   \n",
      "23                  BUHL    778 15            DE  POSTAL_ADDR_DEF    72232860   \n",
      "24                  BUHL    778 15            DE  POSTAL_ADDR_DEF    72232860   \n",
      "25                  BUHL    778 15            DE  POSTAL_ADDR_DEF    72232860   \n",
      "26            COPENHAGEN   DK 2400            DK  POSTAL_ADDR_DEF    33254012   \n",
      "27               SEA TAC     98188    WA      US   POSTAL_ADDR_US  2062428970   \n",
      "28              LYNNWOOD     98087    WA      US   POSTAL_ADDR_US     7555505   \n",
      "29           BRONNOYSUND      8910            NO  POSTAL_ADDR_DEF    75007500   \n",
      "30               LYSAKER      1366            NO  POSTAL_ADDR_DEF    85449562   \n",
      "31            COPENHAGEN   DK 2400            DK  POSTAL_ADDR_DEF    33254012   \n",
      "32             TRONDHEIM      7435            NO  POSTAL_ADDR_DEF    22864000   \n",
      "33                  BUHL    778 15            DE  POSTAL_ADDR_DEF    72232860   \n",
      "34                  BUHL    778 15            DE  POSTAL_ADDR_DEF    72232860   \n",
      "35                  OSLO      0614            NO  POSTAL_ADDR_DEF    91632075   \n",
      "36              LYNNWOOD     98087    WA      US   POSTAL_ADDR_US     7555505   \n",
      "37            GARDERMOEN      2061            NO  POSTAL_ADDR_DEF    64821500   \n",
      "38                  MOSS    N-1526            NO  POSTAL_ADDR_DEF    90047500   \n",
      "39             SINGAPORE    534103            SG                       562221   \n",
      "40                  BUHL    778 15            DE  POSTAL_ADDR_DEF    72232860   \n",
      "41                  BUHL    778 15            DE  POSTAL_ADDR_DEF    72232860   \n",
      "42            GARDERMOEN      2061            NO  POSTAL_ADDR_DEF    64821500   \n",
      "43           FOREST TOWN      2193            ZA  POSTAL_ADDR_DEF   115515500   \n",
      "44               HOUSTON     77065    TX      US   POSTAL_ADDR_US     4694635   \n",
      "45  VERRIERES LE BUISSON     91374            FR  POSTAL_ADDR_DEF   160114444   \n",
      "46                  BUHL    778 15            DE  POSTAL_ADDR_DEF    72232860   \n",
      "47                  BUHL    778 15            DE  POSTAL_ADDR_DEF    72232860   \n",
      "48              HATFIELD  AL10 9TW            GB  POSTAL_ADDR_DEF  1707637000   \n",
      "49      PARIS LA DEFENSE     92911            FR  POSTAL_ADDR_DEF   442166098   \n",
      "50             SINGAPORE    534103            SG                       562221   \n",
      "\n",
      "   PERSON_FIRST_NAME    PERSON_LAST_NAME  \n",
      "0                                Unknown  \n",
      "1             Thomas               Bonde  \n",
      "2            Bernard              Melson  \n",
      "3                                Unknown  \n",
      "4              Karen           Springgay  \n",
      "5             jerome             lavault  \n",
      "6              Cesar  Figuero Adormakaba  \n",
      "7             Neeraj           Bhatnagar  \n",
      "8                               Shipping  \n",
      "9           Vishakha          Chaturvedi  \n",
      "10                               Unknown  \n",
      "11               XXX                 ZZZ  \n",
      "12            Samuel               Chien  \n",
      "13           Praveen       Sheik Da Wood  \n",
      "14                              Coursier  \n",
      "15              John             Kissane  \n",
      "16           Warwick            Thompson  \n",
      "17                           Kristiansen  \n",
      "18            Joakim                Tang  \n",
      "19                                    AR  \n",
      "20             James              Waters  \n",
      "21                               Unknown  \n",
      "22              Mark                Gore  \n",
      "23             Marco             Manfron  \n",
      "24             Alica          Mikloskova  \n",
      "25           Rosetto            Stephane  \n",
      "26              Lars             Paulsen  \n",
      "27             Nancy            Anderson  \n",
      "28              Mary            Thrasher  \n",
      "29                               Unknown  \n",
      "30                              GIORDANO  \n",
      "31                                   mru  \n",
      "32                    INVOICE DEPARTMENT  \n",
      "33              Clay           Wesenberg  \n",
      "34              Jean             Nammour  \n",
      "35            Jaakko           Penttinen  \n",
      "36             Mihai             Diaconu  \n",
      "37            Gunnar               Rotan  \n",
      "38              Roar             Soeberg  \n",
      "39           Lee Pei                 Wen  \n",
      "40             JAMIE                TEOH  \n",
      "41                               Unknown  \n",
      "42              Mona             Harstad  \n",
      "43                                 blank  \n",
      "44             Kathy             Suttles  \n",
      "45                               Unknown  \n",
      "46             kevin              merten  \n",
      "47             hilde            henneman  \n",
      "48                               Unknown  \n",
      "49           Cyrille              Andreu  \n",
      "50          Wee Woon                Tian  \n"
     ]
    }
   ],
   "source": [
    "Suppliers_Table=pd.read_sql_query(\"SELECT * FROM suppliers.suplier \",conn) #Read the table from mysql database using pandas\n",
    "print(Suppliers_Table)\n"
   ]
  },
  {
   "cell_type": "code",
   "execution_count": 9,
   "metadata": {},
   "outputs": [],
   "source": [
    "cursor=conn.cursor()"
   ]
  },
  {
   "cell_type": "code",
   "execution_count": 10,
   "metadata": {},
   "outputs": [
    {
     "data": {
      "text/plain": [
       "0"
      ]
     },
     "execution_count": 10,
     "metadata": {},
     "output_type": "execute_result"
    }
   ],
   "source": [
    "cursor.execute(\"\"\"CREATE TABLE EMPLOYEES(FIRST_NAME  CHAR(20) NOT NULL,LAST_NAME  CHAR(20),AGE INT,SEX CHAR(1),INCOME FLOAT )\"\"\")"
   ]
  },
  {
   "cell_type": "code",
   "execution_count": 13,
   "metadata": {},
   "outputs": [
    {
     "data": {
      "text/plain": [
       "1"
      ]
     },
     "execution_count": 13,
     "metadata": {},
     "output_type": "execute_result"
    }
   ],
   "source": [
    "cursor.execute(\"\"\"INSERT INTO EMPLOYEES(FIRST_NAME,\n",
    "   LAST_NAME, AGE, SEX, INCOME)\n",
    "   VALUES ('MOHAN', 'RAJ', 34, 'M', 1500)\"\"\")"
   ]
  },
  {
   "cell_type": "code",
   "execution_count": 14,
   "metadata": {},
   "outputs": [
    {
     "name": "stdout",
     "output_type": "stream",
     "text": [
      "  FIRST_NAME LAST_NAME  AGE SEX  INCOME\n",
      "0        Mac     Mohan   20   M  2000.0\n",
      "1      MOHAN       RAJ   34   M  1500.0\n"
     ]
    }
   ],
   "source": [
    "Suppliers_Table=pd.read_sql_query(\"SELECT * FROM suppliers.eMPLOYEES \",conn) #Read the table from mysql database using pandas\n",
    "print(Suppliers_Table)\n"
   ]
  },
  {
   "cell_type": "code",
   "execution_count": 17,
   "metadata": {},
   "outputs": [
    {
     "data": {
      "text/plain": [
       "1"
      ]
     },
     "execution_count": 17,
     "metadata": {},
     "output_type": "execute_result"
    }
   ],
   "source": [
    "cursor.execute('''update Employees set income=12000 where first_name='mohan' ''')"
   ]
  },
  {
   "cell_type": "code",
   "execution_count": 18,
   "metadata": {
    "scrolled": true
   },
   "outputs": [
    {
     "name": "stdout",
     "output_type": "stream",
     "text": [
      "  FIRST_NAME LAST_NAME  AGE SEX   INCOME\n",
      "0        Mac     Mohan   20   M   2000.0\n",
      "1      MOHAN       RAJ   34   M  12000.0\n"
     ]
    }
   ],
   "source": [
    "Suppliers_Table=pd.read_sql_query(\"SELECT * FROM suppliers.eMPLOYEES \",conn) #Read the table from mysql database using pandas\n",
    "print(Suppliers_Table)\n"
   ]
  },
  {
   "cell_type": "code",
   "execution_count": 19,
   "metadata": {
    "scrolled": true
   },
   "outputs": [
    {
     "data": {
      "text/plain": [
       "1"
      ]
     },
     "execution_count": 19,
     "metadata": {},
     "output_type": "execute_result"
    }
   ],
   "source": [
    "cursor.execute('''delete from suppliers.eMPLOYEES where first_name='mac' ''')"
   ]
  },
  {
   "cell_type": "code",
   "execution_count": 20,
   "metadata": {},
   "outputs": [
    {
     "name": "stdout",
     "output_type": "stream",
     "text": [
      "  FIRST_NAME LAST_NAME  AGE SEX   INCOME\n",
      "0      MOHAN       RAJ   34   M  12000.0\n"
     ]
    }
   ],
   "source": [
    "Suppliers_Table=pd.read_sql_query(\"SELECT * FROM suppliers.eMPLOYEES \",conn) #Read the table from mysql database using pandas\n",
    "print(Suppliers_Table)\n"
   ]
  }
 ],
 "metadata": {
  "kernelspec": {
   "display_name": "Python 3",
   "language": "python",
   "name": "python3"
  },
  "language_info": {
   "codemirror_mode": {
    "name": "ipython",
    "version": 3
   },
   "file_extension": ".py",
   "mimetype": "text/x-python",
   "name": "python",
   "nbconvert_exporter": "python",
   "pygments_lexer": "ipython3",
   "version": "3.8.5"
  }
 },
 "nbformat": 4,
 "nbformat_minor": 4
}
