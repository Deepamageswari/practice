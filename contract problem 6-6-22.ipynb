{
 "cells": [
  {
   "cell_type": "code",
   "execution_count": 12,
   "metadata": {},
   "outputs": [],
   "source": [
    "import pandas as pd"
   ]
  },
  {
   "cell_type": "code",
   "execution_count": 25,
   "metadata": {},
   "outputs": [],
   "source": [
    "CONTRACT_PAYMENT_TERMS=pd.DataFrame(CONTRACT_PAYMENT_TERMS)"
   ]
  },
  {
   "cell_type": "code",
   "execution_count": 24,
   "metadata": {},
   "outputs": [],
   "source": [
    "CONTRACT_PAYMENT_TERMS={'cpt_id':[100,101,102,103],'freq_of_pmt':['monthly','quarter','half yearly','yearly']}"
   ]
  },
  {
   "cell_type": "code",
   "execution_count": 5,
   "metadata": {
    "scrolled": true
   },
   "outputs": [
    {
     "data": {
      "text/html": [
       "<div>\n",
       "<style scoped>\n",
       "    .dataframe tbody tr th:only-of-type {\n",
       "        vertical-align: middle;\n",
       "    }\n",
       "\n",
       "    .dataframe tbody tr th {\n",
       "        vertical-align: top;\n",
       "    }\n",
       "\n",
       "    .dataframe thead th {\n",
       "        text-align: right;\n",
       "    }\n",
       "</style>\n",
       "<table border=\"1\" class=\"dataframe\">\n",
       "  <thead>\n",
       "    <tr style=\"text-align: right;\">\n",
       "      <th></th>\n",
       "      <th>cpt_id</th>\n",
       "      <th>freq_of_pmt</th>\n",
       "    </tr>\n",
       "  </thead>\n",
       "  <tbody>\n",
       "    <tr>\n",
       "      <th>0</th>\n",
       "      <td>100</td>\n",
       "      <td>monthly</td>\n",
       "    </tr>\n",
       "    <tr>\n",
       "      <th>1</th>\n",
       "      <td>101</td>\n",
       "      <td>quarter</td>\n",
       "    </tr>\n",
       "    <tr>\n",
       "      <th>2</th>\n",
       "      <td>102</td>\n",
       "      <td>half yearly</td>\n",
       "    </tr>\n",
       "    <tr>\n",
       "      <th>3</th>\n",
       "      <td>103</td>\n",
       "      <td>yearly</td>\n",
       "    </tr>\n",
       "  </tbody>\n",
       "</table>\n",
       "</div>"
      ],
      "text/plain": [
       "   cpt_id  freq_of_pmt\n",
       "0     100      monthly\n",
       "1     101      quarter\n",
       "2     102  half yearly\n",
       "3     103       yearly"
      ]
     },
     "execution_count": 5,
     "metadata": {},
     "output_type": "execute_result"
    }
   ],
   "source": [
    "CONTRACT_PAYMENT_TERMS"
   ]
  },
  {
   "cell_type": "code",
   "execution_count": 2,
   "metadata": {},
   "outputs": [],
   "source": [
    "contract_table=pd.DataFrame()"
   ]
  },
  {
   "cell_type": "code",
   "execution_count": 3,
   "metadata": {},
   "outputs": [],
   "source": [
    "contract_table['contract_id']=[12345,12879,12987,12346,12348]"
   ]
  },
  {
   "cell_type": "code",
   "execution_count": 4,
   "metadata": {},
   "outputs": [],
   "source": [
    "contract_table['contract_type']=['goven','indicidual','indicidual','goven','goven']"
   ]
  },
  {
   "cell_type": "code",
   "execution_count": 7,
   "metadata": {},
   "outputs": [],
   "source": [
    "contract_table['cont_s_date']=['10-jan-10','03-feb-11','15/feb/11','13-mar-09','6-apr-12']"
   ]
  },
  {
   "cell_type": "code",
   "execution_count": 31,
   "metadata": {},
   "outputs": [
    {
     "name": "stdout",
     "output_type": "stream",
     "text": [
      "   contract_id contract_type cont_s_date cont_e_date  cpt_id  cont_amt  \\\n",
      "0        12345    government  2010-01-10  2012-01-10     100    700000   \n",
      "1        12879    individual  2011-02-03  2012-02-15     101    489938   \n",
      "2        12987    individual  2011-02-15  2011-09-15     100    289938   \n",
      "3        12346    government  2009-03-13  2011-03-14     102    200000   \n",
      "4        12348    government  2012-04-06  2013-05-22    1003    200000   \n",
      "\n",
      "    ins_date   upd_date  \n",
      "0 2010-01-10        NaT  \n",
      "1 2011-02-03        NaT  \n",
      "2 2011-02-15        NaT  \n",
      "3 2009-03-10 2009-04-10  \n",
      "4 2009-05-08        NaT  \n",
      "                                 0                    1                    2  \\\n",
      "contract_id                  12345                12879                12987   \n",
      "contract_type           government           individual           individual   \n",
      "cont_s_date    2010-01-10 00:00:00  2011-02-03 00:00:00  2011-02-15 00:00:00   \n",
      "cont_e_date    2012-01-10 00:00:00  2012-02-15 00:00:00  2011-09-15 00:00:00   \n",
      "cpt_id                         100                  101                  100   \n",
      "cont_amt                    700000               489938               289938   \n",
      "ins_date       2010-01-10 00:00:00  2011-02-03 00:00:00  2011-02-15 00:00:00   \n",
      "upd_date                       NaT                  NaT                  NaT   \n",
      "\n",
      "                                 3                    4  \n",
      "contract_id                  12346                12348  \n",
      "contract_type           government           government  \n",
      "cont_s_date    2009-03-13 00:00:00  2012-04-06 00:00:00  \n",
      "cont_e_date    2011-03-14 00:00:00  2013-05-22 00:00:00  \n",
      "cpt_id                         102                 1003  \n",
      "cont_amt                    200000               200000  \n",
      "ins_date       2009-03-10 00:00:00  2009-05-08 00:00:00  \n",
      "upd_date       2009-04-10 00:00:00                  NaT  \n",
      "<bound method DataFrame.transform of    contract_id contract_type cont_s_date cont_e_date  cpt_id  cont_amt  \\\n",
      "0        12345    government  2010-01-10  2012-01-10     100    700000   \n",
      "1        12879    individual  2011-02-03  2012-02-15     101    489938   \n",
      "2        12987    individual  2011-02-15  2011-09-15     100    289938   \n",
      "3        12346    government  2009-03-13  2011-03-14     102    200000   \n",
      "4        12348    government  2012-04-06  2013-05-22    1003    200000   \n",
      "\n",
      "    ins_date   upd_date  \n",
      "0 2010-01-10        NaT  \n",
      "1 2011-02-03        NaT  \n",
      "2 2011-02-15        NaT  \n",
      "3 2009-03-10 2009-04-10  \n",
      "4 2009-05-08        NaT  >\n"
     ]
    }
   ],
   "source": [
    "print(contract_table)\n",
    "print(contract_table.T)\n",
    "print(contract_table.transform)"
   ]
  },
  {
   "cell_type": "code",
   "execution_count": 9,
   "metadata": {},
   "outputs": [],
   "source": [
    "contract_table['cont_s_date']=pd.to_datetime(contract_table['cont_s_date'])"
   ]
  },
  {
   "cell_type": "code",
   "execution_count": 21,
   "metadata": {},
   "outputs": [
    {
     "data": {
      "text/plain": [
       "contract_id               int64\n",
       "contract_type            object\n",
       "cont_s_date      datetime64[ns]\n",
       "cont_e_date      datetime64[ns]\n",
       "cpt_id                    int64\n",
       "cont_amt                  int64\n",
       "ins_date         datetime64[ns]\n",
       "upd_date         datetime64[ns]\n",
       "dtype: object"
      ]
     },
     "execution_count": 21,
     "metadata": {},
     "output_type": "execute_result"
    }
   ],
   "source": [
    "contract_table=pd.read_csv(r'C:\\Users\\ELCOT\\OneDrive\\Desktop\\jupyter notebook\\Aroha\\contract 6-6-22.csv')\n",
    "contract_table['cont_s_date']=pd.to_datetime(contract_table['cont_s_date'])\n",
    "contract_table['cont_e_date']=pd.to_datetime(contract_table['cont_e_date'])\n",
    "contract_table['ins_date']=pd.to_datetime(contract_table['ins_date'])\n",
    "contract_table['upd_date']=pd.to_datetime(contract_table['upd_date'])\n",
    "contract_table.dtypes"
   ]
  },
  {
   "cell_type": "code",
   "execution_count": 26,
   "metadata": {},
   "outputs": [
    {
     "name": "stdout",
     "output_type": "stream",
     "text": [
      "   cpt_id  freq_of_pmt\n",
      "0     100      monthly\n",
      "1     101      quarter\n",
      "2     102  half yearly\n",
      "3     103       yearly\n",
      "   contract_id contract_type cont_s_date cont_e_date  cpt_id  cont_amt  \\\n",
      "0        12345    government  2010-01-10  2012-01-10     100    700000   \n",
      "1        12879    individual  2011-02-03  2012-02-15     101    489938   \n",
      "2        12987    individual  2011-02-15  2011-09-15     100    289938   \n",
      "3        12346    government  2009-03-13  2011-03-14     102    200000   \n",
      "4        12348    government  2012-04-06  2013-05-22    1003    200000   \n",
      "\n",
      "    ins_date   upd_date  \n",
      "0 2010-01-10        NaT  \n",
      "1 2011-02-03        NaT  \n",
      "2 2011-02-15        NaT  \n",
      "3 2009-03-10 2009-04-10  \n",
      "4 2009-05-08        NaT  \n"
     ]
    }
   ],
   "source": [
    "print(CONTRACT_PAYMENT_TERMS)\n",
    "print(contract_table)"
   ]
  },
  {
   "cell_type": "code",
   "execution_count": 28,
   "metadata": {},
   "outputs": [
    {
     "name": "stdout",
     "output_type": "stream",
     "text": [
      "0             2 days 00:00:00\n",
      "1   1 days 00:47:20.547945205\n",
      "2   0 days 13:56:23.013698630\n",
      "3   2 days 00:03:56.712328767\n",
      "4   1 days 03:01:28.767123287\n",
      "dtype: timedelta64[ns]\n"
     ]
    }
   ],
   "source": [
    "print(rount(contract_table['cont_e_date']-contract_table['cont_s_date'])/365)"
   ]
  },
  {
   "cell_type": "code",
   "execution_count": null,
   "metadata": {},
   "outputs": [],
   "source": []
  },
  {
   "cell_type": "code",
   "execution_count": null,
   "metadata": {},
   "outputs": [],
   "source": []
  },
  {
   "cell_type": "code",
   "execution_count": null,
   "metadata": {},
   "outputs": [],
   "source": []
  }
 ],
 "metadata": {
  "kernelspec": {
   "display_name": "Python 3",
   "language": "python",
   "name": "python3"
  },
  "language_info": {
   "codemirror_mode": {
    "name": "ipython",
    "version": 3
   },
   "file_extension": ".py",
   "mimetype": "text/x-python",
   "name": "python",
   "nbconvert_exporter": "python",
   "pygments_lexer": "ipython3",
   "version": "3.8.5"
  }
 },
 "nbformat": 4,
 "nbformat_minor": 4
}
